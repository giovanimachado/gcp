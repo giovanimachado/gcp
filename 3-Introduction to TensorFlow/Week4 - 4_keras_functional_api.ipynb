{
 "cells": [
  {
   "cell_type": "markdown",
   "metadata": {},
   "source": [
    "# Introducing the Keras Functional API\n",
    "\n",
    "**Learning Objectives**\n",
    "  1. Understand embeddings and how to create them with the feature column API\n",
    "  1. Understand Deep and Wide models and when to use them\n",
    "  1. Understand the Keras functional API and how to build a deep and wide model with it\n",
    "\n",
    "## Introduction\n",
    "\n",
    "In the last notebook, we learned about the Keras Sequential API. The [Keras Functional API](https://www.tensorflow.org/guide/keras#functional_api) provides an alternate way of building models which is more flexible. With the Functional API, we can build models with more complex topologies, multiple input or output layers, shared layers or non-sequential data flows (e.g. residual layers).\n",
    "\n",
    "In this notebook we'll use what we learned about feature columns to build a Wide & Deep model. Recall, that the idea behind Wide & Deep models is to join the two methods of learning through memorization and generalization by making a wide linear model and a deep learning model to accommodate both. You can have a look at the original research paper here: [Wide & Deep Learning for Recommender Systems](https://arxiv.org/abs/1606.07792).\n",
    "\n",
    "<img src='assets/wide_deep.png' width='80%'>\n",
    "<sup>(image: https://ai.googleblog.com/2016/06/wide-deep-learning-better-together-with.html)</sup>\n",
    "\n",
    "The Wide part of the model is associated with the memory element. In this case, we train a linear model with a wide set of crossed features and learn the correlation of this related data with the assigned label. The Deep part of the model is associated with the generalization element where we use embedding vectors for features. The best embeddings are then learned through the training process. While both of these methods can work well alone, Wide & Deep models excel by combining these techniques together. "
   ]
  },
  {
   "cell_type": "code",
   "execution_count": 1,
   "metadata": {},
   "outputs": [
    {
     "name": "stdout",
     "output_type": "stream",
     "text": [
      "Collecting tensorflow==2.3\n",
      "  Downloading tensorflow-2.3.0-cp37-cp37m-manylinux2010_x86_64.whl (320.4 MB)\n",
      "\u001b[K     |██████████████████████████████▏ | 302.2 MB 104.2 MB/s eta 0:00:01   |███████                         | 69.4 MB 78.0 MB/s eta 0:00:04"
     ]
    },
    {
     "name": "stderr",
     "output_type": "stream",
     "text": [
      "IOPub data rate exceeded.\n",
      "The notebook server will temporarily stop sending output\n",
      "to the client in order to avoid crashing it.\n",
      "To change this limit, set the config variable\n",
      "`--NotebookApp.iopub_data_rate_limit`.\n",
      "\n",
      "Current values:\n",
      "NotebookApp.iopub_data_rate_limit=1000000.0 (bytes/sec)\n",
      "NotebookApp.rate_limit_window=3.0 (secs)\n",
      "\n"
     ]
    },
    {
     "name": "stdout",
     "output_type": "stream",
     "text": [
      "\u001b[K     |████████████████████████████████| 320.4 MB 33 kB/s \n",
      "\u001b[?25hRequirement already satisfied: absl-py>=0.7.0 in /opt/conda/lib/python3.7/site-packages (from tensorflow==2.3) (0.10.0)\n",
      "Requirement already satisfied: h5py<2.11.0,>=2.10.0 in /opt/conda/lib/python3.7/site-packages (from tensorflow==2.3) (2.10.0)\n",
      "Requirement already satisfied: wrapt>=1.11.1 in /opt/conda/lib/python3.7/site-packages (from tensorflow==2.3) (1.12.1)\n",
      "Requirement already satisfied: protobuf>=3.9.2 in /opt/conda/lib/python3.7/site-packages (from tensorflow==2.3) (3.14.0)\n",
      "Requirement already satisfied: grpcio>=1.8.6 in /opt/conda/lib/python3.7/site-packages (from tensorflow==2.3) (1.34.0)\n",
      "Requirement already satisfied: gast==0.3.3 in /opt/conda/lib/python3.7/site-packages (from tensorflow==2.3) (0.3.3)\n",
      "Requirement already satisfied: opt-einsum>=2.3.2 in /opt/conda/lib/python3.7/site-packages (from tensorflow==2.3) (3.3.0)\n",
      "Requirement already satisfied: keras-preprocessing<1.2,>=1.1.1 in /opt/conda/lib/python3.7/site-packages (from tensorflow==2.3) (1.1.2)\n",
      "Requirement already satisfied: six>=1.12.0 in /opt/conda/lib/python3.7/site-packages (from tensorflow==2.3) (1.15.0)\n",
      "Requirement already satisfied: termcolor>=1.1.0 in /opt/conda/lib/python3.7/site-packages (from tensorflow==2.3) (1.1.0)\n",
      "Requirement already satisfied: astunparse==1.6.3 in /opt/conda/lib/python3.7/site-packages (from tensorflow==2.3) (1.6.3)\n",
      "Requirement already satisfied: google-pasta>=0.1.8 in /opt/conda/lib/python3.7/site-packages (from tensorflow==2.3) (0.2.0)\n",
      "Requirement already satisfied: tensorboard<3,>=2.3.0 in /opt/conda/lib/python3.7/site-packages (from tensorflow==2.3) (2.4.0)\n",
      "Requirement already satisfied: wheel>=0.26 in /opt/conda/lib/python3.7/site-packages (from tensorflow==2.3) (0.36.2)\n",
      "Collecting scipy==1.4.1\n",
      "  Downloading scipy-1.4.1-cp37-cp37m-manylinux1_x86_64.whl (26.1 MB)\n",
      "\u001b[K     |████████████████████████████████| 26.1 MB 58.2 MB/s eta 0:00:01\n",
      "\u001b[?25hCollecting numpy<1.19.0,>=1.16.0\n",
      "  Downloading numpy-1.18.5-cp37-cp37m-manylinux1_x86_64.whl (20.1 MB)\n",
      "\u001b[K     |████████████████████████████████| 20.1 MB 69.4 MB/s eta 0:00:01\n",
      "\u001b[?25hRequirement already satisfied: requests<3,>=2.21.0 in /opt/conda/lib/python3.7/site-packages (from tensorboard<3,>=2.3.0->tensorflow==2.3) (2.25.1)\n",
      "Requirement already satisfied: setuptools>=41.0.0 in /opt/conda/lib/python3.7/site-packages (from tensorboard<3,>=2.3.0->tensorflow==2.3) (51.1.0)\n",
      "Requirement already satisfied: google-auth-oauthlib<0.5,>=0.4.1 in /opt/conda/lib/python3.7/site-packages (from tensorboard<3,>=2.3.0->tensorflow==2.3) (0.4.2)\n",
      "Requirement already satisfied: google-auth<2,>=1.6.3 in /opt/conda/lib/python3.7/site-packages (from tensorboard<3,>=2.3.0->tensorflow==2.3) (1.24.0)\n",
      "Requirement already satisfied: tensorboard-plugin-wit>=1.6.0 in /opt/conda/lib/python3.7/site-packages (from tensorboard<3,>=2.3.0->tensorflow==2.3) (1.7.0)\n",
      "Requirement already satisfied: markdown>=2.6.8 in /opt/conda/lib/python3.7/site-packages (from tensorboard<3,>=2.3.0->tensorflow==2.3) (3.3.3)\n",
      "Requirement already satisfied: werkzeug>=0.11.15 in /opt/conda/lib/python3.7/site-packages (from tensorboard<3,>=2.3.0->tensorflow==2.3) (1.0.1)\n",
      "Requirement already satisfied: cachetools<5.0,>=2.0.0 in /opt/conda/lib/python3.7/site-packages (from google-auth<2,>=1.6.3->tensorboard<3,>=2.3.0->tensorflow==2.3) (4.2.0)\n",
      "Requirement already satisfied: rsa<5,>=3.1.4 in /opt/conda/lib/python3.7/site-packages (from google-auth<2,>=1.6.3->tensorboard<3,>=2.3.0->tensorflow==2.3) (4.6)\n",
      "Requirement already satisfied: pyasn1-modules>=0.2.1 in /opt/conda/lib/python3.7/site-packages (from google-auth<2,>=1.6.3->tensorboard<3,>=2.3.0->tensorflow==2.3) (0.2.8)\n",
      "Requirement already satisfied: requests-oauthlib>=0.7.0 in /opt/conda/lib/python3.7/site-packages (from google-auth-oauthlib<0.5,>=0.4.1->tensorboard<3,>=2.3.0->tensorflow==2.3) (1.3.0)\n",
      "Requirement already satisfied: importlib-metadata in /opt/conda/lib/python3.7/site-packages (from markdown>=2.6.8->tensorboard<3,>=2.3.0->tensorflow==2.3) (3.3.0)\n",
      "Requirement already satisfied: pyasn1<0.5.0,>=0.4.6 in /opt/conda/lib/python3.7/site-packages (from pyasn1-modules>=0.2.1->google-auth<2,>=1.6.3->tensorboard<3,>=2.3.0->tensorflow==2.3) (0.4.8)\n",
      "Requirement already satisfied: urllib3<1.27,>=1.21.1 in /opt/conda/lib/python3.7/site-packages (from requests<3,>=2.21.0->tensorboard<3,>=2.3.0->tensorflow==2.3) (1.26.2)\n",
      "Requirement already satisfied: idna<3,>=2.5 in /opt/conda/lib/python3.7/site-packages (from requests<3,>=2.21.0->tensorboard<3,>=2.3.0->tensorflow==2.3) (2.10)\n",
      "Requirement already satisfied: certifi>=2017.4.17 in /opt/conda/lib/python3.7/site-packages (from requests<3,>=2.21.0->tensorboard<3,>=2.3.0->tensorflow==2.3) (2020.12.5)\n",
      "Requirement already satisfied: chardet<5,>=3.0.2 in /opt/conda/lib/python3.7/site-packages (from requests<3,>=2.21.0->tensorboard<3,>=2.3.0->tensorflow==2.3) (4.0.0)\n",
      "Requirement already satisfied: oauthlib>=3.0.0 in /opt/conda/lib/python3.7/site-packages (from requests-oauthlib>=0.7.0->google-auth-oauthlib<0.5,>=0.4.1->tensorboard<3,>=2.3.0->tensorflow==2.3) (3.1.0)\n",
      "Collecting tensorflow-estimator<2.4.0,>=2.3.0\n",
      "  Downloading tensorflow_estimator-2.3.0-py2.py3-none-any.whl (459 kB)\n",
      "\u001b[K     |████████████████████████████████| 459 kB 76.9 MB/s eta 0:00:01\n",
      "\u001b[?25hRequirement already satisfied: typing-extensions>=3.6.4 in /opt/conda/lib/python3.7/site-packages (from importlib-metadata->markdown>=2.6.8->tensorboard<3,>=2.3.0->tensorflow==2.3) (3.7.4.3)\n",
      "Requirement already satisfied: zipp>=0.5 in /opt/conda/lib/python3.7/site-packages (from importlib-metadata->markdown>=2.6.8->tensorboard<3,>=2.3.0->tensorflow==2.3) (3.4.0)\n",
      "Installing collected packages: numpy, tensorflow-estimator, scipy, tensorflow\n",
      "  Attempting uninstall: numpy\n",
      "    Found existing installation: numpy 1.19.4\n",
      "    Uninstalling numpy-1.19.4:\n",
      "      Successfully uninstalled numpy-1.19.4\n",
      "  Attempting uninstall: tensorflow-estimator\n",
      "    Found existing installation: tensorflow-estimator 2.4.0\n",
      "    Uninstalling tensorflow-estimator-2.4.0:\n",
      "      Successfully uninstalled tensorflow-estimator-2.4.0\n",
      "  Attempting uninstall: scipy\n",
      "    Found existing installation: scipy 1.5.3\n",
      "    Uninstalling scipy-1.5.3:\n",
      "      Successfully uninstalled scipy-1.5.3\n",
      "  Attempting uninstall: tensorflow\n",
      "    Found existing installation: tensorflow 2.4.0\n",
      "    Uninstalling tensorflow-2.4.0:\n",
      "      Successfully uninstalled tensorflow-2.4.0\n",
      "\u001b[31mERROR: pip's dependency resolver does not currently take into account all the packages that are installed. This behaviour is the source of the following dependency conflicts.\n",
      "tfx 0.25.0 requires kubernetes<12,>=10.0.1, but you have kubernetes 12.0.1 which is incompatible.\n",
      "tfx 0.25.0 requires pyarrow<0.18,>=0.17, but you have pyarrow 2.0.0 which is incompatible.\n",
      "tfx-bsl 0.25.0 requires pyarrow<0.18,>=0.17, but you have pyarrow 2.0.0 which is incompatible.\n",
      "tensorflow-serving-api 2.4.0 requires tensorflow<3,>=2.4.0, but you have tensorflow 2.3.0 which is incompatible.\n",
      "tensorflow-probability 0.11.0 requires cloudpickle==1.3, but you have cloudpickle 1.6.0 which is incompatible.\n",
      "tensorflow-model-analysis 0.25.0 requires pyarrow<0.18,>=0.17, but you have pyarrow 2.0.0 which is incompatible.\n",
      "tensorflow-data-validation 0.25.0 requires joblib<0.15,>=0.12, but you have joblib 1.0.0 which is incompatible.\n",
      "tensorflow-data-validation 0.25.0 requires pyarrow<0.18,>=0.17, but you have pyarrow 2.0.0 which is incompatible.\n",
      "pandas-profiling 2.8.0 requires visions[type_image_path]==0.4.4, but you have visions 0.6.4 which is incompatible.\n",
      "apache-beam 2.26.0 requires httplib2<0.18.0,>=0.8, but you have httplib2 0.18.1 which is incompatible.\n",
      "apache-beam 2.26.0 requires pyarrow<0.18.0,>=0.15.1, but you have pyarrow 2.0.0 which is incompatible.\u001b[0m\n",
      "Successfully installed numpy-1.18.5 scipy-1.4.1 tensorflow-2.3.0 tensorflow-estimator-2.3.0\n"
     ]
    }
   ],
   "source": [
    "# Ensure the right version of Tensorflow is installed.\n",
    "!pip freeze | grep tensorflow==2.3 || pip install tensorflow==2.3"
   ]
  },
  {
   "cell_type": "markdown",
   "metadata": {},
   "source": [
    "Kindly ignore the deprecation warnings and incompatibility errors."
   ]
  },
  {
   "cell_type": "markdown",
   "metadata": {},
   "source": [
    "Start by importing the necessary libraries for this lab."
   ]
  },
  {
   "cell_type": "code",
   "execution_count": 2,
   "metadata": {},
   "outputs": [
    {
     "name": "stdout",
     "output_type": "stream",
     "text": [
      "2.3.0\n"
     ]
    }
   ],
   "source": [
    "import datetime\n",
    "import os\n",
    "import shutil\n",
    "\n",
    "import numpy as np\n",
    "import pandas as pd\n",
    "import tensorflow as tf\n",
    "\n",
    "from matplotlib import pyplot as plt\n",
    "from tensorflow import keras\n",
    "\n",
    "from tensorflow import feature_column as fc\n",
    "\n",
    "from tensorflow.keras import Model\n",
    "from tensorflow.keras.layers import (\n",
    "    Input, Dense, DenseFeatures, concatenate)\n",
    "from tensorflow.keras.callbacks import TensorBoard\n",
    "\n",
    "print(tf.__version__)"
   ]
  },
  {
   "cell_type": "code",
   "execution_count": 3,
   "metadata": {},
   "outputs": [],
   "source": [
    "%matplotlib inline"
   ]
  },
  {
   "cell_type": "markdown",
   "metadata": {},
   "source": [
    "## Load raw data \n",
    "\n",
    "We will use the taxifare dataset, using the CSV files that we created in the first notebook of this sequence. Those files have been saved into `../data`."
   ]
  },
  {
   "cell_type": "code",
   "execution_count": 4,
   "metadata": {},
   "outputs": [
    {
     "name": "stdout",
     "output_type": "stream",
     "text": [
      "-rw-r--r-- 1 jupyter jupyter 123590 Jan 17 19:44 ../data/taxi-test.csv\n",
      "-rw-r--r-- 1 jupyter jupyter 579055 Jan 17 19:44 ../data/taxi-train.csv\n",
      "-rw-r--r-- 1 jupyter jupyter 123114 Jan 17 19:44 ../data/taxi-valid.csv\n"
     ]
    }
   ],
   "source": [
    "!ls -l ../data/*.csv"
   ]
  },
  {
   "cell_type": "markdown",
   "metadata": {},
   "source": [
    "## Use tf.data to read the CSV files\n",
    "\n",
    "We wrote these functions for reading data from the csv files above in the [previous notebook](2_dataset_api.ipynb). For this lab we will also include some additional engineered features in our model. In particular, we will compute the difference in latitude and longitude, as well as the Euclidean distance between the pick-up and drop-off locations. We can accomplish this by adding these new features to the features dictionary with the function `add_engineered_features` below. \n",
    "\n",
    "Note that we include a call to this function when collecting our features dict and labels in the `features_and_labels` function below as well. "
   ]
  },
  {
   "cell_type": "code",
   "execution_count": 5,
   "metadata": {},
   "outputs": [],
   "source": [
    "CSV_COLUMNS = [\n",
    "    'fare_amount',\n",
    "    'pickup_datetime',\n",
    "    'pickup_longitude',\n",
    "    'pickup_latitude',\n",
    "    'dropoff_longitude',\n",
    "    'dropoff_latitude',\n",
    "    'passenger_count',\n",
    "    'key'\n",
    "]\n",
    "LABEL_COLUMN = 'fare_amount'\n",
    "DEFAULTS = [[0.0], ['na'], [0.0], [0.0], [0.0], [0.0], [0.0], ['na']]\n",
    "UNWANTED_COLS = ['pickup_datetime', 'key']\n",
    "\n",
    "\n",
    "def features_and_labels(row_data):\n",
    "    label = row_data.pop(LABEL_COLUMN)\n",
    "    features = row_data\n",
    "        \n",
    "    for unwanted_col in UNWANTED_COLS:\n",
    "        features.pop(unwanted_col)\n",
    "\n",
    "    return features, label\n",
    "\n",
    "\n",
    "def create_dataset(pattern, batch_size=1, mode='eval'):\n",
    "    dataset = tf.data.experimental.make_csv_dataset(\n",
    "        pattern, batch_size, CSV_COLUMNS, DEFAULTS)\n",
    "\n",
    "    dataset = dataset.map(features_and_labels)\n",
    "    \n",
    "    if mode == 'train':\n",
    "        dataset = dataset.shuffle(buffer_size=1000).repeat()\n",
    "\n",
    "    # take advantage of multi-threading; 1=AUTOTUNE\n",
    "    dataset = dataset.prefetch(1)\n",
    "    return dataset"
   ]
  },
  {
   "cell_type": "markdown",
   "metadata": {},
   "source": [
    "## Feature columns for Wide and Deep model\n",
    "\n",
    "For the Wide columns, we will create feature columns of crossed features. To do this, we'll create a collection of Tensorflow feature columns to pass to the `tf.feature_column.crossed_column` constructor. The Deep columns will consist of numeric columns and the embedding columns we want to create. "
   ]
  },
  {
   "cell_type": "markdown",
   "metadata": {},
   "source": [
    "**Lab Task #1:** In the cell below, create feature columns for our wide-and-deep model. You'll need to build \n",
    "1. bucketized columns using [tf.feature_column.bucketized_column](https://www.tensorflow.org/api_docs/python/tf/feature_column/bucketized_column) for the pickup and dropoff latitude and longitude,\n",
    "2. crossed columns using [tf.feature_column.crossed_column](https://www.tensorflow.org/api_docs/python/tf/feature_column/crossed_column) for those bucketized columns, and \n",
    "3. embedding columns using [tf.feature_column.embedding_column](https://www.tensorflow.org/api_docs/python/tf/feature_column/embedding_column) for the crossed columns."
   ]
  },
  {
   "cell_type": "code",
   "execution_count": 6,
   "metadata": {},
   "outputs": [],
   "source": [
    "# TODO 1\n",
    "\n",
    "# 1. Bucketize latitudes and longitudes\n",
    "NBUCKETS = 16\n",
    "latbuckets = np.linspace(start=38.0, stop=42.0, num=NBUCKETS).tolist()\n",
    "lonbuckets = np.linspace(start=-76.0, stop=-72.0, num=NBUCKETS).tolist()\n",
    "\n",
    "fc_bucketized_plat = fc.bucketized_column(\n",
    "    source_column=fc.numeric_column(\"pickup_longitude\"), boundaries=lonbuckets)\n",
    "fc_bucketized_plon = fc.bucketized_column(\n",
    "    source_column=fc.numeric_column(\"pickup_latitude\"), boundaries=latbuckets)\n",
    "fc_bucketized_dlat = fc.bucketized_column(\n",
    "    source_column=fc.numeric_column(\"dropoff_longitude\"), boundaries=lonbuckets)\n",
    "fc_bucketized_dlon = fc.bucketized_column(\n",
    "    source_column=fc.numeric_column(\"dropoff_latitude\"), boundaries=latbuckets)\n",
    "\n",
    "# 2. Cross features for locations\n",
    "fc_crossed_dloc = fc.crossed_column(\n",
    "    [fc_bucketized_dlat, fc_bucketized_dlon],\n",
    "    hash_bucket_size=NBUCKETS * NBUCKETS)\n",
    "fc_crossed_ploc = fc.crossed_column(\n",
    "    [fc_bucketized_plat, fc_bucketized_plon],\n",
    "    hash_bucket_size=NBUCKETS * NBUCKETS)\n",
    "fc_crossed_pd_pair = fc.crossed_column(\n",
    "    [fc_crossed_dloc, fc_crossed_ploc],\n",
    "    hash_bucket_size=NBUCKETS**4)\n",
    "\n",
    "# 3. Create embedding columns for the crossed columns\n",
    "fc_pd_pair = fc.embedding_column(categorical_column=fc_crossed_pd_pair, dimension=3)\n",
    "fc_dloc = fc.embedding_column(categorical_column=fc_crossed_dloc, dimension=3)\n",
    "fc_ploc = fc.embedding_column(categorical_column=fc_crossed_ploc, dimension=3)"
   ]
  },
  {
   "cell_type": "code",
   "execution_count": 9,
   "metadata": {},
   "outputs": [
    {
     "data": {
      "text/plain": [
       "CrossedColumn(keys=(CrossedColumn(keys=(BucketizedColumn(source_column=NumericColumn(key='dropoff_longitude', shape=(1,), default_value=None, dtype=tf.float32, normalizer_fn=None), boundaries=(-76.0, -75.73333333333333, -75.46666666666667, -75.2, -74.93333333333334, -74.66666666666667, -74.4, -74.13333333333334, -73.86666666666666, -73.6, -73.33333333333333, -73.06666666666666, -72.8, -72.53333333333333, -72.26666666666667, -72.0)), BucketizedColumn(source_column=NumericColumn(key='dropoff_latitude', shape=(1,), default_value=None, dtype=tf.float32, normalizer_fn=None), boundaries=(38.0, 38.266666666666666, 38.53333333333333, 38.8, 39.06666666666667, 39.333333333333336, 39.6, 39.86666666666667, 40.13333333333333, 40.4, 40.666666666666664, 40.93333333333333, 41.2, 41.46666666666667, 41.733333333333334, 42.0))), hash_bucket_size=256, hash_key=None), CrossedColumn(keys=(BucketizedColumn(source_column=NumericColumn(key='pickup_longitude', shape=(1,), default_value=None, dtype=tf.float32, normalizer_fn=None), boundaries=(-76.0, -75.73333333333333, -75.46666666666667, -75.2, -74.93333333333334, -74.66666666666667, -74.4, -74.13333333333334, -73.86666666666666, -73.6, -73.33333333333333, -73.06666666666666, -72.8, -72.53333333333333, -72.26666666666667, -72.0)), BucketizedColumn(source_column=NumericColumn(key='pickup_latitude', shape=(1,), default_value=None, dtype=tf.float32, normalizer_fn=None), boundaries=(38.0, 38.266666666666666, 38.53333333333333, 38.8, 39.06666666666667, 39.333333333333336, 39.6, 39.86666666666667, 40.13333333333333, 40.4, 40.666666666666664, 40.93333333333333, 41.2, 41.46666666666667, 41.733333333333334, 42.0))), hash_bucket_size=256, hash_key=None)), hash_bucket_size=65536, hash_key=None)"
      ]
     },
     "execution_count": 9,
     "metadata": {},
     "output_type": "execute_result"
    }
   ],
   "source": [
    "fc_pd_pair[0]"
   ]
  },
  {
   "cell_type": "markdown",
   "metadata": {},
   "source": [
    "### Gather list of feature columns\n",
    "\n",
    "Next we gather the list of wide and deep feature columns we'll pass to our Wide & Deep model in Tensorflow. Recall, wide columns are sparse, have linear relationship with the output while continuous columns are deep, have a complex relationship with the output. We will use our previously bucketized columns to collect crossed feature columns and sparse feature columns for our wide columns, and embedding feature columns and numeric features columns for the deep columns."
   ]
  },
  {
   "cell_type": "markdown",
   "metadata": {},
   "source": [
    "**Lab Task #2:** Collect the wide and deep columns into two separate lists. You'll have two lists: One called `wide_columns` containing the one-hot encoded features from the crossed features and one called `deep_columns` which contains numeric and embedding feature columns."
   ]
  },
  {
   "cell_type": "code",
   "execution_count": 10,
   "metadata": {},
   "outputs": [],
   "source": [
    "# TODO 2\n",
    "wide_columns = [\n",
    "    # One-hot encoded feature crosses\n",
    "    # TODO: Your code goes here.\n",
    "    fc.indicator_column(fc_crossed_dloc),\n",
    "    fc.indicator_column(fc_crossed_ploc),\n",
    "    fc.indicator_column(fc_crossed_pd_pair)\n",
    "]\n",
    "\n",
    "deep_columns = [\n",
    "    # Embedding_column to \"group\" together ...\n",
    "    # TODO: Your code goes here.\n",
    "    fc.embedding_column(fc_crossed_pd_pair, dimension=10),    \n",
    "    # Numeric columns\n",
    "    # TODO: Your code goes here.\n",
    "    fc.numeric_column(\"pickup_latitude\"),\n",
    "    fc.numeric_column(\"pickup_longitude\"),\n",
    "    fc.numeric_column(\"dropoff_longitude\"),\n",
    "    fc.numeric_column(\"dropoff_latitude\")\n",
    "]"
   ]
  },
  {
   "cell_type": "markdown",
   "metadata": {},
   "source": [
    "## Build a Wide and Deep model in Keras\n",
    "\n",
    "To build a wide-and-deep network, we connect the sparse (i.e. wide) features directly to the output node, but pass the dense (i.e. deep) features through a set of fully connected layers. Here’s that model architecture looks using the Functional API.\n",
    "\n",
    "First, we'll create our input columns using [tf.keras.layers.Input](https://www.tensorflow.org/versions/r2.0/api_docs/python/tf/keras/Input)."
   ]
  },
  {
   "cell_type": "code",
   "execution_count": 11,
   "metadata": {},
   "outputs": [],
   "source": [
    "INPUT_COLS = [\n",
    "    'pickup_longitude',\n",
    "    'pickup_latitude',\n",
    "    'dropoff_longitude',\n",
    "    'dropoff_latitude',\n",
    "    'passenger_count'\n",
    "]\n",
    "\n",
    "inputs = {colname : Input(name=colname, shape=(), dtype='float32')\n",
    "          for colname in INPUT_COLS\n",
    "}"
   ]
  },
  {
   "cell_type": "code",
   "execution_count": 12,
   "metadata": {},
   "outputs": [
    {
     "data": {
      "text/plain": [
       "{'pickup_longitude': <tf.Tensor 'pickup_longitude:0' shape=(None,) dtype=float32>,\n",
       " 'pickup_latitude': <tf.Tensor 'pickup_latitude:0' shape=(None,) dtype=float32>,\n",
       " 'dropoff_longitude': <tf.Tensor 'dropoff_longitude:0' shape=(None,) dtype=float32>,\n",
       " 'dropoff_latitude': <tf.Tensor 'dropoff_latitude:0' shape=(None,) dtype=float32>,\n",
       " 'passenger_count': <tf.Tensor 'passenger_count:0' shape=(None,) dtype=float32>}"
      ]
     },
     "execution_count": 12,
     "metadata": {},
     "output_type": "execute_result"
    }
   ],
   "source": [
    "inputs"
   ]
  },
  {
   "cell_type": "markdown",
   "metadata": {},
   "source": [
    "Then, we'll define our custom RMSE evaluation metric and build our wide and deep model."
   ]
  },
  {
   "cell_type": "markdown",
   "metadata": {},
   "source": [
    "**Lab Task #3:** Complete the code in the function `build_model` below so that it returns a compiled Keras model. The argument `dnn_hidden_units` should represent the number of units in each layer of your network. Use the Functional API to build a wide-and-deep model. Use the `deep_columns` you created above to build the deep layers and the `wide_columns` to create the wide layers. Once you have the wide and deep components, you will combine them to feed to a final fully connected layer. "
   ]
  },
  {
   "cell_type": "code",
   "execution_count": 13,
   "metadata": {},
   "outputs": [],
   "source": [
    "def rmse(y_true, y_pred):\n",
    "    return tf.sqrt(tf.reduce_mean(tf.square(y_pred - y_true)))\n",
    "\n",
    "# TODO 3\n",
    "def build_model(dnn_hidden_units):\n",
    "    # Create the deep part of model\n",
    "    deep = DenseFeatures(deep_columns, name='deep_inputs')(inputs)\n",
    "    for num_nodes in dnn_hidden_units:\n",
    "        deep = Dense(num_nodes, activation='relu')(deep) \n",
    "\n",
    "    # Create the wide part of model\n",
    "    wide = DenseFeatures(wide_columns, name='wide_inputs')(inputs)\n",
    "\n",
    "    # Combine deep and wide parts of the model\n",
    "    combined = concatenate(inputs=[deep, wide], name='combined')\n",
    "\n",
    "    # Map the combined outputs into a single prediction value\n",
    "    output = Dense(units=1, activation=None, name='prediction')(combined)\n",
    "    \n",
    "    # Finalize the model\n",
    "    model = Model(inputs=list(inputs.values()), outputs=output)\n",
    "\n",
    "    # Compile the keras model\n",
    "    model.compile(optimizer=\"adam\", loss=\"mse\", metrics=[rmse, \"mse\"])\n",
    "    \n",
    "    return model"
   ]
  },
  {
   "cell_type": "markdown",
   "metadata": {},
   "source": [
    "Next, we can call the `build_model` to create the model. Here we'll have two hidden layers, each with 10 neurons, for the deep part of our model. We can also use `plot_model` to see a diagram of the model we've created."
   ]
  },
  {
   "cell_type": "code",
   "execution_count": 17,
   "metadata": {},
   "outputs": [
    {
     "data": {
      "image/png": "[encoded data removed]",
      "text/plain": [
       "<IPython.core.display.Image object>"
      ]
     },
     "execution_count": 17,
     "metadata": {},
     "output_type": "execute_result"
    }
   ],
   "source": [
    "HIDDEN_UNITS = [10,10]\n",
    "\n",
    "model = build_model(dnn_hidden_units=HIDDEN_UNITS)\n",
    "\n",
    "tf.keras.utils.plot_model(model, show_shapes=False, rankdir='LR')"
   ]
  },
  {
   "cell_type": "markdown",
   "metadata": {},
   "source": [
    "Next, we'll set up our training variables, create our datasets for training and validation, and train our model.\n",
    "\n",
    "(We refer you the the blog post [ML Design Pattern #3: Virtual Epochs](https://medium.com/google-cloud/ml-design-pattern-3-virtual-epochs-f842296de730) for further details on why express the training in terms of `NUM_TRAIN_EXAMPLES` and `NUM_EVALS` and why, in this training code, the number of epochs is really equal to the number of evaluations we perform.)"
   ]
  },
  {
   "cell_type": "code",
   "execution_count": 18,
   "metadata": {},
   "outputs": [],
   "source": [
    "BATCH_SIZE = 1000\n",
    "NUM_TRAIN_EXAMPLES = 10000 * 5  # training dataset will repeat, wrap around\n",
    "NUM_EVALS = 50  # how many times to evaluate\n",
    "NUM_EVAL_EXAMPLES = 10000  # enough to get a reasonable sample\n",
    "\n",
    "trainds = create_dataset(\n",
    "    pattern='../data/taxi-train*',\n",
    "    batch_size=BATCH_SIZE,\n",
    "    mode='train')\n",
    "\n",
    "evalds = create_dataset(\n",
    "    pattern='../data/taxi-valid*',\n",
    "    batch_size=BATCH_SIZE,\n",
    "    mode='eval').take(NUM_EVAL_EXAMPLES//1000)"
   ]
  },
  {
   "cell_type": "code",
   "execution_count": 19,
   "metadata": {},
   "outputs": [
    {
     "name": "stdout",
     "output_type": "stream",
     "text": [
      "1\n",
      "Epoch 1/50\n",
      "1/1 [==============================] - 2s 2s/step - loss: 248.2657 - rmse: 15.7565 - mse: 248.2657 - val_loss: 241.0367 - val_rmse: 15.5189 - val_mse: 241.0367\n",
      "Epoch 2/50\n",
      "WARNING:tensorflow:From /opt/conda/lib/python3.7/site-packages/tensorflow/python/ops/summary_ops_v2.py:1277: stop (from tensorflow.python.eager.profiler) is deprecated and will be removed after 2020-07-01.\n",
      "Instructions for updating:\n",
      "use `tf.profiler.experimental.stop` instead.\n",
      "1/1 [==============================] - 1s 1s/step - loss: 237.1456 - rmse: 15.3995 - mse: 237.1456 - val_loss: 237.9004 - val_rmse: 15.4066 - val_mse: 237.9004\n",
      "Epoch 3/50\n",
      "1/1 [==============================] - 2s 2s/step - loss: 226.5189 - rmse: 15.0505 - mse: 226.5189 - val_loss: 234.4658 - val_rmse: 15.3031 - val_mse: 234.4658\n",
      "Epoch 4/50\n",
      "1/1 [==============================] - 1s 1s/step - loss: 218.2172 - rmse: 14.7722 - mse: 218.2172 - val_loss: 230.8754 - val_rmse: 15.1897 - val_mse: 230.8754\n",
      "Epoch 5/50\n",
      "1/1 [==============================] - 1s 1s/step - loss: 212.1873 - rmse: 14.5667 - mse: 212.1873 - val_loss: 226.0813 - val_rmse: 15.0316 - val_mse: 226.0813\n",
      "Epoch 6/50\n",
      "1/1 [==============================] - 1s 1s/step - loss: 169.6915 - rmse: 13.0266 - mse: 169.6915 - val_loss: 220.7985 - val_rmse: 14.8431 - val_mse: 220.7985\n",
      "Epoch 7/50\n",
      "1/1 [==============================] - 2s 2s/step - loss: 197.0692 - rmse: 14.0381 - mse: 197.0692 - val_loss: 218.5268 - val_rmse: 14.7807 - val_mse: 218.5268\n",
      "Epoch 8/50\n",
      "1/1 [==============================] - 1s 1s/step - loss: 177.4010 - rmse: 13.3192 - mse: 177.4010 - val_loss: 213.3044 - val_rmse: 14.5988 - val_mse: 213.3044\n",
      "Epoch 9/50\n",
      "1/1 [==============================] - 1s 1s/step - loss: 216.3137 - rmse: 14.7076 - mse: 216.3137 - val_loss: 207.7380 - val_rmse: 14.4099 - val_mse: 207.7380\n",
      "Epoch 10/50\n",
      "1/1 [==============================] - 1s 1s/step - loss: 249.4651 - rmse: 15.7945 - mse: 249.4651 - val_loss: 205.2184 - val_rmse: 14.3159 - val_mse: 205.2184\n",
      "Epoch 11/50\n",
      "1/1 [==============================] - 1s 1s/step - loss: 197.3475 - rmse: 14.0480 - mse: 197.3475 - val_loss: 200.4858 - val_rmse: 14.1469 - val_mse: 200.4858\n",
      "Epoch 12/50\n",
      "1/1 [==============================] - 1s 1s/step - loss: 168.2320 - rmse: 12.9704 - mse: 168.2320 - val_loss: 197.5097 - val_rmse: 14.0307 - val_mse: 197.5097\n",
      "Epoch 13/50\n",
      "1/1 [==============================] - 2s 2s/step - loss: 147.2341 - rmse: 12.1340 - mse: 147.2341 - val_loss: 191.2878 - val_rmse: 13.8224 - val_mse: 191.2878\n",
      "Epoch 14/50\n",
      "1/1 [==============================] - 1s 1s/step - loss: 157.9548 - rmse: 12.5680 - mse: 157.9548 - val_loss: 189.4549 - val_rmse: 13.7544 - val_mse: 189.4549\n",
      "Epoch 15/50\n",
      "1/1 [==============================] - 1s 1s/step - loss: 151.2951 - rmse: 12.3002 - mse: 151.2951 - val_loss: 183.1171 - val_rmse: 13.5233 - val_mse: 183.1171\n",
      "Epoch 16/50\n",
      "1/1 [==============================] - 2s 2s/step - loss: 157.1597 - rmse: 12.5363 - mse: 157.1597 - val_loss: 179.6616 - val_rmse: 13.3966 - val_mse: 179.6616\n",
      "Epoch 17/50\n",
      "1/1 [==============================] - 1s 1s/step - loss: 129.4032 - rmse: 11.3756 - mse: 129.4032 - val_loss: 177.5837 - val_rmse: 13.3096 - val_mse: 177.5837\n",
      "Epoch 18/50\n",
      "1/1 [==============================] - 1s 1s/step - loss: 162.5938 - rmse: 12.7512 - mse: 162.5938 - val_loss: 172.0847 - val_rmse: 13.1021 - val_mse: 172.0847\n",
      "Epoch 19/50\n",
      "1/1 [==============================] - 2s 2s/step - loss: 130.5210 - rmse: 11.4246 - mse: 130.5210 - val_loss: 169.0580 - val_rmse: 12.9972 - val_mse: 169.0580\n",
      "Epoch 20/50\n",
      "1/1 [==============================] - 1s 1s/step - loss: 125.9269 - rmse: 11.2217 - mse: 125.9269 - val_loss: 163.5147 - val_rmse: 12.7761 - val_mse: 163.5147\n",
      "Epoch 21/50\n",
      "1/1 [==============================] - 1s 1s/step - loss: 150.1893 - rmse: 12.2552 - mse: 150.1893 - val_loss: 160.9231 - val_rmse: 12.6814 - val_mse: 160.9231\n",
      "Epoch 22/50\n",
      "1/1 [==============================] - 1s 1s/step - loss: 162.7121 - rmse: 12.7559 - mse: 162.7121 - val_loss: 157.6414 - val_rmse: 12.5478 - val_mse: 157.6414\n",
      "Epoch 23/50\n",
      "1/1 [==============================] - 1s 1s/step - loss: 124.6566 - rmse: 11.1650 - mse: 124.6566 - val_loss: 154.4830 - val_rmse: 12.4191 - val_mse: 154.4830\n",
      "Epoch 24/50\n",
      "1/1 [==============================] - 1s 1s/step - loss: 166.4100 - rmse: 12.9000 - mse: 166.4100 - val_loss: 151.3253 - val_rmse: 12.2903 - val_mse: 151.3253\n",
      "Epoch 25/50\n",
      "1/1 [==============================] - 1s 1s/step - loss: 136.0905 - rmse: 11.6658 - mse: 136.0905 - val_loss: 148.5021 - val_rmse: 12.1641 - val_mse: 148.5021\n",
      "Epoch 26/50\n",
      "1/1 [==============================] - 1s 1s/step - loss: 151.9753 - rmse: 12.3278 - mse: 151.9753 - val_loss: 144.0051 - val_rmse: 11.9954 - val_mse: 144.0051\n",
      "Epoch 27/50\n",
      "1/1 [==============================] - 2s 2s/step - loss: 147.8272 - rmse: 12.1584 - mse: 147.8272 - val_loss: 141.1159 - val_rmse: 11.8638 - val_mse: 141.1159\n",
      "Epoch 28/50\n",
      "1/1 [==============================] - 1s 1s/step - loss: 131.5928 - rmse: 11.4714 - mse: 131.5928 - val_loss: 134.9528 - val_rmse: 11.5941 - val_mse: 134.9528\n",
      "Epoch 29/50\n",
      "1/1 [==============================] - 1s 1s/step - loss: 109.5743 - rmse: 10.4678 - mse: 109.5743 - val_loss: 132.5059 - val_rmse: 11.4907 - val_mse: 132.5059\n",
      "Epoch 30/50\n",
      "1/1 [==============================] - 2s 2s/step - loss: 132.7286 - rmse: 11.5208 - mse: 132.7286 - val_loss: 131.2287 - val_rmse: 11.4264 - val_mse: 131.2287\n",
      "Epoch 31/50\n",
      "1/1 [==============================] - 1s 1s/step - loss: 103.8585 - rmse: 10.1911 - mse: 103.8585 - val_loss: 126.6604 - val_rmse: 11.2499 - val_mse: 126.6604\n",
      "Epoch 32/50\n",
      "1/1 [==============================] - 1s 1s/step - loss: 93.3016 - rmse: 9.6593 - mse: 93.3016 - val_loss: 124.3579 - val_rmse: 11.1356 - val_mse: 124.3579\n",
      "Epoch 33/50\n",
      "1/1 [==============================] - 1s 1s/step - loss: 92.8441 - rmse: 9.6356 - mse: 92.8441 - val_loss: 123.4652 - val_rmse: 11.0812 - val_mse: 123.4652\n",
      "Epoch 34/50\n",
      "1/1 [==============================] - 1s 1s/step - loss: 88.1041 - rmse: 9.3864 - mse: 88.1041 - val_loss: 120.9932 - val_rmse: 10.9783 - val_mse: 120.9932\n",
      "Epoch 35/50\n",
      "1/1 [==============================] - 1s 1s/step - loss: 144.9238 - rmse: 12.0384 - mse: 144.9238 - val_loss: 118.8668 - val_rmse: 10.8792 - val_mse: 118.8668\n",
      "Epoch 36/50\n",
      "1/1 [==============================] - 1s 1s/step - loss: 111.0860 - rmse: 10.5397 - mse: 111.0860 - val_loss: 117.1687 - val_rmse: 10.8128 - val_mse: 117.1687\n",
      "Epoch 37/50\n",
      "1/1 [==============================] - 1s 1s/step - loss: 124.2451 - rmse: 11.1465 - mse: 124.2451 - val_loss: 115.2365 - val_rmse: 10.7167 - val_mse: 115.2365\n",
      "Epoch 38/50\n",
      "1/1 [==============================] - 1s 1s/step - loss: 103.7753 - rmse: 10.1870 - mse: 103.7753 - val_loss: 113.4015 - val_rmse: 10.6318 - val_mse: 113.4015\n",
      "Epoch 39/50\n",
      "1/1 [==============================] - 1s 1s/step - loss: 103.3214 - rmse: 10.1647 - mse: 103.3214 - val_loss: 111.6846 - val_rmse: 10.5364 - val_mse: 111.6846\n",
      "Epoch 40/50\n",
      "1/1 [==============================] - 1s 1s/step - loss: 115.3680 - rmse: 10.7409 - mse: 115.3680 - val_loss: 111.1915 - val_rmse: 10.5328 - val_mse: 111.1915\n",
      "Epoch 41/50\n",
      "1/1 [==============================] - 1s 1s/step - loss: 77.0654 - rmse: 8.7787 - mse: 77.0654 - val_loss: 113.5556 - val_rmse: 10.6470 - val_mse: 113.5556\n",
      "Epoch 42/50\n",
      "1/1 [==============================] - 1s 1s/step - loss: 71.3896 - rmse: 8.4492 - mse: 71.3896 - val_loss: 111.1548 - val_rmse: 10.5230 - val_mse: 111.1548\n",
      "Epoch 43/50\n",
      "1/1 [==============================] - 1s 1s/step - loss: 76.4952 - rmse: 8.7462 - mse: 76.4952 - val_loss: 111.7472 - val_rmse: 10.5539 - val_mse: 111.7472\n",
      "Epoch 44/50\n",
      "1/1 [==============================] - 1s 1s/step - loss: 93.3113 - rmse: 9.6598 - mse: 93.3113 - val_loss: 111.0306 - val_rmse: 10.5264 - val_mse: 111.0306\n",
      "Epoch 45/50\n",
      "1/1 [==============================] - 1s 1s/step - loss: 70.7684 - rmse: 8.4124 - mse: 70.7684 - val_loss: 111.3061 - val_rmse: 10.5365 - val_mse: 111.3061\n",
      "Epoch 46/50\n",
      "1/1 [==============================] - 2s 2s/step - loss: 84.4791 - rmse: 9.1913 - mse: 84.4791 - val_loss: 110.7298 - val_rmse: 10.5025 - val_mse: 110.7298\n",
      "Epoch 47/50\n",
      "1/1 [==============================] - 1s 1s/step - loss: 80.0223 - rmse: 8.9455 - mse: 80.0223 - val_loss: 108.9157 - val_rmse: 10.4138 - val_mse: 108.9157\n",
      "Epoch 48/50\n",
      "1/1 [==============================] - 1s 1s/step - loss: 95.0767 - rmse: 9.7507 - mse: 95.0767 - val_loss: 109.3394 - val_rmse: 10.4468 - val_mse: 109.3394\n",
      "Epoch 49/50\n",
      "1/1 [==============================] - 2s 2s/step - loss: 105.9755 - rmse: 10.2944 - mse: 105.9755 - val_loss: 110.3833 - val_rmse: 10.4870 - val_mse: 110.3833\n",
      "Epoch 50/50\n",
      "1/1 [==============================] - 1s 1s/step - loss: 111.6975 - rmse: 10.5687 - mse: 111.6975 - val_loss: 111.5727 - val_rmse: 10.5589 - val_mse: 111.5727\n",
      "CPU times: user 2min 42s, sys: 2min 7s, total: 4min 50s\n",
      "Wall time: 1min 33s\n"
     ]
    }
   ],
   "source": [
    "%%time\n",
    "steps_per_epoch = NUM_TRAIN_EXAMPLES // (BATCH_SIZE * NUM_EVALS)\n",
    "print(steps_per_epoch)\n",
    "\n",
    "OUTDIR = \"./taxi_trained\"\n",
    "shutil.rmtree(path=OUTDIR, ignore_errors=True) # start fresh each time\n",
    "\n",
    "history = model.fit(x=trainds,\n",
    "                    steps_per_epoch=steps_per_epoch,\n",
    "                    epochs=NUM_EVALS,\n",
    "                    validation_data=evalds,\n",
    "                    callbacks=[TensorBoard(OUTDIR)])"
   ]
  },
  {
   "cell_type": "markdown",
   "metadata": {},
   "source": [
    "Just as before, we can examine the history to see how the RMSE changes through training on the train set and validation set. "
   ]
  },
  {
   "cell_type": "code",
   "execution_count": 20,
   "metadata": {},
   "outputs": [
    {
     "data": {
      "text/plain": [
       "<AxesSubplot:>"
      ]
     },
     "execution_count": 20,
     "metadata": {},
     "output_type": "execute_result"
    },
    {
     "data": {
      "image/png": "[encoded data removed]",
      "text/plain": [
       "<Figure size 432x288 with 1 Axes>"
      ]
     },
     "metadata": {
      "needs_background": "light"
     },
     "output_type": "display_data"
    }
   ],
   "source": [
    "RMSE_COLS = ['rmse', 'val_rmse']\n",
    "\n",
    "pd.DataFrame(history.history)[RMSE_COLS].plot()"
   ]
  },
  {
   "cell_type": "markdown",
   "metadata": {},
   "source": [
    "Copyright 2019 Google Inc. Licensed under the Apache License, Version 2.0 (the \"License\"); you may not use this file except in compliance with the License. You may obtain a copy of the License at http://www.apache.org/licenses/LICENSE-2.0 Unless required by applicable law or agreed to in writing, software distributed under the License is distributed on an \"AS IS\" BASIS, WITHOUT WARRANTIES OR CONDITIONS OF ANY KIND, either express or implied. See the License for the specific language governing permissions and limitations under the License"
   ]
  }
 ],
 "metadata": {
  "environment": {
   "name": "tf2-gpu.2-4.m61",
   "type": "gcloud",
   "uri": "gcr.io/deeplearning-platform-release/tf2-gpu.2-4:m61"
  },
  "kernelspec": {
   "display_name": "Python 3",
   "language": "python",
   "name": "python3"
  },
  "language_info": {
   "codemirror_mode": {
    "name": "ipython",
    "version": 3
   },
   "file_extension": ".py",
   "mimetype": "text/x-python",
   "name": "python",
   "nbconvert_exporter": "python",
   "pygments_lexer": "ipython3",
   "version": "3.7.9"
  }
 },
 "nbformat": 4,
 "nbformat_minor": 4
}
