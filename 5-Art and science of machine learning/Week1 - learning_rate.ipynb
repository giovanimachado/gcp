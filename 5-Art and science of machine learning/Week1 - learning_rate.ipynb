{
 "cells": [
  {
   "cell_type": "markdown",
   "metadata": {
    "colab_type": "text",
    "id": "rNdWfPXCjTjY"
   },
   "source": [
    "# Reviewing Learning Curves\n",
    "\n",
    "### Learning objectives\n",
    "\n",
    "1. Build and train a Keras Sequential model\n",
    "2. Specify various learning rates to a model\n",
    "3. Visualize the loss curves\n",
    "\n",
    "\n",
    "## Introduction \n",
    "\n",
    "\n",
    "In this notebook, you will observe learning curve changes. You will use the Keras Sequential Model to build an ML model to predict housing prices.\n",
    "\n",
    "A learning curve is a plot of model learning performance over experience or time.\n",
    "\n",
    "Learning curves are a widely used diagnostic tool in machine learning for algorithms that learn from a training dataset incrementally. The model can be evaluated on the training dataset and on a hold out validation dataset after each update during training and plots of the measured performance can created to show learning curves. Reviewing learning curves of models during training can be used to diagnose problems with learning, such as an underfit or overfit model, as well as whether the training and validation datasets are suitably representative.\n",
    "\n",
    "Adam is an optimization algorithm that can be used instead of the classical stochastic gradient descent procedure to update network weights iterative based in training data. [How to use Learning Curves to Diagnose Machine Learning Model Performance](https://machinelearningmastery.com/learning-curves-for-diagnosing-machine-learning-model-performance/#:~:text=A%20learning%20curve%20is%20a,from%20a%20training%20dataset%20incrementally.&text=Learning%20curves%20are%20plots%20that,time%20in%20terms%20of%20experience).\n",
    "\n",
    "Each learning objective will correspond to a __#TODO__ in the [student lab notebook](https://github.com/GoogleCloudPlatform/training-data-analyst/blob/master/courses/machine_learning/deepdive2/art_and_science_of_ml/labs/learning_rate.ipynb) -- try to complete that notebook first before reviewing this solution notebook. \n"
   ]
  },
  {
   "cell_type": "markdown",
   "metadata": {
    "colab_type": "text",
    "id": "VxyBFc_kKazA"
   },
   "source": [
    "Start by importing the necessary libraries for this lab."
   ]
  },
  {
   "cell_type": "code",
   "execution_count": 1,
   "metadata": {},
   "outputs": [],
   "source": [
    "# Use the chown command to change the ownership of repository to user\n",
    "!sudo chown -R jupyter:jupyter /home/jupyter/training-data-analyst"
   ]
  },
  {
   "cell_type": "code",
   "execution_count": 2,
   "metadata": {},
   "outputs": [
    {
     "name": "stdout",
     "output_type": "stream",
     "text": [
      "Collecting sklearn\n",
      "  Downloading sklearn-0.0.tar.gz (1.1 kB)\n",
      "Requirement already satisfied: scikit-learn in /opt/conda/lib/python3.7/site-packages (from sklearn) (0.24.1)\n",
      "Requirement already satisfied: joblib>=0.11 in /opt/conda/lib/python3.7/site-packages (from scikit-learn->sklearn) (1.0.0)\n",
      "Requirement already satisfied: threadpoolctl>=2.0.0 in /opt/conda/lib/python3.7/site-packages (from scikit-learn->sklearn) (2.1.0)\n",
      "Requirement already satisfied: scipy>=0.19.1 in /opt/conda/lib/python3.7/site-packages (from scikit-learn->sklearn) (1.6.0)\n",
      "Requirement already satisfied: numpy>=1.13.3 in /opt/conda/lib/python3.7/site-packages (from scikit-learn->sklearn) (1.19.5)\n",
      "Building wheels for collected packages: sklearn\n",
      "  Building wheel for sklearn (setup.py) ... \u001b[?25ldone\n",
      "\u001b[?25h  Created wheel for sklearn: filename=sklearn-0.0-py2.py3-none-any.whl size=1316 sha256=52e5b55323c3b7206d11ecc71cf5f4bde35da72de7d7c82107c430c468b0581a\n",
      "  Stored in directory: /home/jupyter/.cache/pip/wheels/46/ef/c3/157e41f5ee1372d1be90b09f74f82b10e391eaacca8f22d33e\n",
      "Successfully built sklearn\n",
      "Installing collected packages: sklearn\n",
      "Successfully installed sklearn-0.0\n"
     ]
    }
   ],
   "source": [
    "# Install Sklearn\n",
    "!python3 -m pip install --user sklearn"
   ]
  },
  {
   "cell_type": "code",
   "execution_count": 3,
   "metadata": {
    "colab": {},
    "colab_type": "code",
    "id": "9dEreb4QKizj"
   },
   "outputs": [
    {
     "name": "stderr",
     "output_type": "stream",
     "text": [
      "Using TensorFlow backend.\n"
     ]
    },
    {
     "name": "stdout",
     "output_type": "stream",
     "text": [
      "TensorFlow version:  2.4.0\n"
     ]
    }
   ],
   "source": [
    "# The OS module in python provides functions for interacting with the operating system\n",
    "import os\n",
    "import tensorflow.keras\n",
    "\n",
    "# The matplotlib module provides all the fuctionalities for visualizing model\n",
    "import matplotlib.pyplot as plt\n",
    "# Here we'll import data processing libraries like Pandas and Tensorflow\n",
    "import pandas as pd\n",
    "import tensorflow as tf\n",
    "\n",
    "from tensorflow import feature_column as fc\n",
    "from tensorflow.keras import layers\n",
    "from tensorflow import keras\n",
    "from tensorflow.keras import layers\n",
    "from keras.optimizers import Adam\n",
    "#from keras.optimizers import SGD\n",
    "\n",
    "from sklearn.model_selection import train_test_split\n",
    "from keras.utils import plot_model\n",
    "\n",
    "# Here we'll show the currently installed version of TensorFlow\n",
    "print(\"TensorFlow version: \",tf.version.VERSION)"
   ]
  },
  {
   "cell_type": "markdown",
   "metadata": {},
   "source": [
    "Many of the Google Machine Learning Courses Programming Exercises use the  [California Housing Dataset](https://developers.google.com/machine-learning/crash-course/california-housing-data-description\n",
    "), which contains data drawn from the 1990 U.S. Census.  Our lab dataset has been pre-processed so that there are no missing values.\n",
    "\n",
    "First, let's download the raw .csv data by copying the data from a cloud storage bucket.\n"
   ]
  },
  {
   "cell_type": "code",
   "execution_count": 4,
   "metadata": {},
   "outputs": [],
   "source": [
    "# Create a directory for storing the dataset\n",
    "if not os.path.isdir(\"../data\"):\n",
    "    os.makedirs(\"../data\")"
   ]
  },
  {
   "cell_type": "code",
   "execution_count": 5,
   "metadata": {},
   "outputs": [
    {
     "name": "stdout",
     "output_type": "stream",
     "text": [
      "Copying gs://cloud-training-demos/feat_eng/housing/housing_pre-proc.csv...\n",
      "/ [1 files][  1.4 MiB/  1.4 MiB]                                                \n",
      "Operation completed over 1 objects/1.4 MiB.                                      \n"
     ]
    }
   ],
   "source": [
    "# The `gsutil cp` command will Copy the file from Google Cloud Storage in the required directory\n",
    "!gsutil cp gs://cloud-training-demos/feat_eng/housing/housing_pre-proc.csv ../data"
   ]
  },
  {
   "cell_type": "markdown",
   "metadata": {
    "colab_type": "text",
    "id": "lM6-n6xntv3t"
   },
   "source": [
    "Now, let's read in the dataset just copied from the cloud storage bucket and create a Pandas dataframe."
   ]
  },
  {
   "cell_type": "code",
   "execution_count": 6,
   "metadata": {
    "colab": {
     "base_uri": "https://localhost:8080/",
     "height": 222
    },
    "colab_type": "code",
    "id": "REZ57BXCLdfG",
    "outputId": "a6ef2eda-c7eb-4e2d-92e4-e7fcaa20b0af"
   },
   "outputs": [
    {
     "data": {
      "text/html": [
       "<div>\n",
       "<style scoped>\n",
       "    .dataframe tbody tr th:only-of-type {\n",
       "        vertical-align: middle;\n",
       "    }\n",
       "\n",
       "    .dataframe tbody tr th {\n",
       "        vertical-align: top;\n",
       "    }\n",
       "\n",
       "    .dataframe thead th {\n",
       "        text-align: right;\n",
       "    }\n",
       "</style>\n",
       "<table border=\"1\" class=\"dataframe\">\n",
       "  <thead>\n",
       "    <tr style=\"text-align: right;\">\n",
       "      <th></th>\n",
       "      <th>longitude</th>\n",
       "      <th>latitude</th>\n",
       "      <th>housing_median_age</th>\n",
       "      <th>total_rooms</th>\n",
       "      <th>total_bedrooms</th>\n",
       "      <th>population</th>\n",
       "      <th>households</th>\n",
       "      <th>median_income</th>\n",
       "      <th>median_house_value</th>\n",
       "      <th>ocean_proximity</th>\n",
       "    </tr>\n",
       "  </thead>\n",
       "  <tbody>\n",
       "    <tr>\n",
       "      <th>0</th>\n",
       "      <td>-122.23</td>\n",
       "      <td>37.88</td>\n",
       "      <td>41.0</td>\n",
       "      <td>880.0</td>\n",
       "      <td>129.0</td>\n",
       "      <td>322.0</td>\n",
       "      <td>126.0</td>\n",
       "      <td>8.3252</td>\n",
       "      <td>452600.0</td>\n",
       "      <td>NEAR BAY</td>\n",
       "    </tr>\n",
       "    <tr>\n",
       "      <th>1</th>\n",
       "      <td>-122.22</td>\n",
       "      <td>37.86</td>\n",
       "      <td>21.0</td>\n",
       "      <td>7099.0</td>\n",
       "      <td>1106.0</td>\n",
       "      <td>2401.0</td>\n",
       "      <td>1138.0</td>\n",
       "      <td>8.3014</td>\n",
       "      <td>358500.0</td>\n",
       "      <td>NEAR BAY</td>\n",
       "    </tr>\n",
       "    <tr>\n",
       "      <th>2</th>\n",
       "      <td>-122.24</td>\n",
       "      <td>37.85</td>\n",
       "      <td>52.0</td>\n",
       "      <td>1467.0</td>\n",
       "      <td>190.0</td>\n",
       "      <td>496.0</td>\n",
       "      <td>177.0</td>\n",
       "      <td>7.2574</td>\n",
       "      <td>352100.0</td>\n",
       "      <td>NEAR BAY</td>\n",
       "    </tr>\n",
       "    <tr>\n",
       "      <th>3</th>\n",
       "      <td>-122.25</td>\n",
       "      <td>37.85</td>\n",
       "      <td>52.0</td>\n",
       "      <td>1274.0</td>\n",
       "      <td>235.0</td>\n",
       "      <td>558.0</td>\n",
       "      <td>219.0</td>\n",
       "      <td>5.6431</td>\n",
       "      <td>341300.0</td>\n",
       "      <td>NEAR BAY</td>\n",
       "    </tr>\n",
       "    <tr>\n",
       "      <th>4</th>\n",
       "      <td>-122.25</td>\n",
       "      <td>37.85</td>\n",
       "      <td>52.0</td>\n",
       "      <td>1627.0</td>\n",
       "      <td>280.0</td>\n",
       "      <td>565.0</td>\n",
       "      <td>259.0</td>\n",
       "      <td>3.8462</td>\n",
       "      <td>342200.0</td>\n",
       "      <td>NEAR BAY</td>\n",
       "    </tr>\n",
       "  </tbody>\n",
       "</table>\n",
       "</div>"
      ],
      "text/plain": [
       "   longitude  latitude  housing_median_age  total_rooms  total_bedrooms  \\\n",
       "0    -122.23     37.88                41.0        880.0           129.0   \n",
       "1    -122.22     37.86                21.0       7099.0          1106.0   \n",
       "2    -122.24     37.85                52.0       1467.0           190.0   \n",
       "3    -122.25     37.85                52.0       1274.0           235.0   \n",
       "4    -122.25     37.85                52.0       1627.0           280.0   \n",
       "\n",
       "   population  households  median_income  median_house_value ocean_proximity  \n",
       "0       322.0       126.0         8.3252            452600.0        NEAR BAY  \n",
       "1      2401.0      1138.0         8.3014            358500.0        NEAR BAY  \n",
       "2       496.0       177.0         7.2574            352100.0        NEAR BAY  \n",
       "3       558.0       219.0         5.6431            341300.0        NEAR BAY  \n",
       "4       565.0       259.0         3.8462            342200.0        NEAR BAY  "
      ]
     },
     "execution_count": 6,
     "metadata": {},
     "output_type": "execute_result"
    }
   ],
   "source": [
    "# Reading `housing_pre-proc.csv` file using the read_csv() function included in the pandas library\n",
    "housing_df = pd.read_csv('../data/housing_pre-proc.csv', error_bad_lines=False)\n",
    "# Output the first five rows\n",
    "housing_df.head()"
   ]
  },
  {
   "cell_type": "markdown",
   "metadata": {},
   "source": [
    "We can use .describe() to see some summary statistics for the numeric fields in our dataframe. Note, for example, the count row and corresponding columns. The count shows 20433.000000 for all feature columns. Thus, there are no missing values."
   ]
  },
  {
   "cell_type": "markdown",
   "metadata": {
    "colab_type": "text",
    "id": "u0zhLtQqMPem"
   },
   "source": [
    "####  Split the dataset for ML\n",
    "\n",
    "The dataset we loaded was a single CSV file. We will split this into train, validation, and test sets.\n"
   ]
  },
  {
   "cell_type": "code",
   "execution_count": 7,
   "metadata": {
    "colab": {
     "base_uri": "https://localhost:8080/",
     "height": 69
    },
    "colab_type": "code",
    "id": "YEOpw7LhMYsI",
    "outputId": "6161a660-7133-465a-d754-d7acae2b68c8"
   },
   "outputs": [
    {
     "name": "stdout",
     "output_type": "stream",
     "text": [
      "13076 train examples\n",
      "3270 validation examples\n",
      "4087 test examples\n"
     ]
    }
   ],
   "source": [
    "train, test = train_test_split(housing_df, test_size=0.2)\n",
    "train, val = train_test_split(train, test_size=0.2)\n",
    "\n",
    "# Let's output the count of `train`, `val` and `test`\n",
    "print(len(train), 'train examples')\n",
    "print(len(val), 'validation examples')\n",
    "print(len(test), 'test examples')\n",
    "\n",
    "# The `to_csv()` method will write object to a csv file.\n",
    "train.to_csv('../data/housing-train.csv', encoding='utf-8', index=False)\n",
    "val.to_csv('../data/housing-val.csv', encoding='utf-8', index=False)\n",
    "test.to_csv('../data/housing-test.csv', encoding='utf-8', index=False)"
   ]
  },
  {
   "cell_type": "code",
   "execution_count": 8,
   "metadata": {},
   "outputs": [],
   "source": [
    "# A utility method to create a tf.data dataset from a Pandas Dataframe\n",
    "\n",
    "def df_to_dataset(dataframe, shuffle=True, batch_size=32):\n",
    "    dataframe = dataframe.copy()\n",
    "    labels = dataframe.pop('median_house_value')\n",
    "    ds = tf.data.Dataset.from_tensor_slices((dict(dataframe), labels))\n",
    "    if shuffle:\n",
    "        ds = ds.shuffle(buffer_size=len(dataframe))\n",
    "    ds = ds.batch(batch_size)\n",
    "    return ds\n",
    "\n",
    "# Next we initialize the training and validation datasets.\n",
    "batch_size = 32\n",
    "train_ds = df_to_dataset(train)\n",
    "val_ds = df_to_dataset(val, shuffle=False, batch_size=batch_size)\n",
    "\n",
    "# Input Pipeline\n",
    "numeric_cols = ['longitude', 'latitude', 'housing_median_age', 'total_rooms',\n",
    "                'total_bedrooms', 'population', 'households', 'median_income']\n",
    "\n",
    "# Next, we scale the numerical feature columns that we assigned to the variable \"numeric cols\".\n",
    "# Scalar def get_scal(feature):\n",
    "def get_scal(feature):\n",
    "    def minmax(x):\n",
    "        mini = train[feature].min()\n",
    "        maxi = train[feature].max()\n",
    "        return (x - mini)/(maxi-mini)\n",
    "        return(minmax)\n",
    "    \n",
    "feature_columns = []\n",
    "for header in numeric_cols:\n",
    "    scal_input_fn = get_scal(header)\n",
    "    feature_columns.append(fc.numeric_column(header,\n",
    "                                             normalizer_fn=scal_input_fn))\n"
   ]
  },
  {
   "cell_type": "markdown",
   "metadata": {
    "colab_type": "text",
    "id": "9Ug3hB8Sl0jO"
   },
   "source": [
    "### Using the Keras Sequential Model\n",
    "\n",
    "Next, we will run this cell to compile and fit the Keras Sequential model."
   ]
  },
  {
   "cell_type": "markdown",
   "metadata": {},
   "source": [
    "## Model 1 - hard cording the learning rate to .5"
   ]
  },
  {
   "cell_type": "code",
   "execution_count": 9,
   "metadata": {},
   "outputs": [
    {
     "name": "stdout",
     "output_type": "stream",
     "text": [
      "Epoch 1/32\n",
      "WARNING:tensorflow:Layers in a Sequential model should only have a single input tensor, but we receive a <class 'dict'> input: {'longitude': <tf.Tensor 'ExpandDims_3:0' shape=(None, 1) dtype=float64>, 'latitude': <tf.Tensor 'ExpandDims_2:0' shape=(None, 1) dtype=float64>, 'housing_median_age': <tf.Tensor 'ExpandDims_1:0' shape=(None, 1) dtype=float64>, 'total_rooms': <tf.Tensor 'ExpandDims_8:0' shape=(None, 1) dtype=float64>, 'total_bedrooms': <tf.Tensor 'ExpandDims_7:0' shape=(None, 1) dtype=float64>, 'population': <tf.Tensor 'ExpandDims_6:0' shape=(None, 1) dtype=float64>, 'households': <tf.Tensor 'ExpandDims:0' shape=(None, 1) dtype=float64>, 'median_income': <tf.Tensor 'ExpandDims_4:0' shape=(None, 1) dtype=float64>, 'ocean_proximity': <tf.Tensor 'ExpandDims_5:0' shape=(None, 1) dtype=string>}\n",
      "Consider rewriting this model with the Functional API.\n",
      "WARNING:tensorflow:Layers in a Sequential model should only have a single input tensor, but we receive a <class 'dict'> input: {'longitude': <tf.Tensor 'ExpandDims_3:0' shape=(None, 1) dtype=float64>, 'latitude': <tf.Tensor 'ExpandDims_2:0' shape=(None, 1) dtype=float64>, 'housing_median_age': <tf.Tensor 'ExpandDims_1:0' shape=(None, 1) dtype=float64>, 'total_rooms': <tf.Tensor 'ExpandDims_8:0' shape=(None, 1) dtype=float64>, 'total_bedrooms': <tf.Tensor 'ExpandDims_7:0' shape=(None, 1) dtype=float64>, 'population': <tf.Tensor 'ExpandDims_6:0' shape=(None, 1) dtype=float64>, 'households': <tf.Tensor 'ExpandDims:0' shape=(None, 1) dtype=float64>, 'median_income': <tf.Tensor 'ExpandDims_4:0' shape=(None, 1) dtype=float64>, 'ocean_proximity': <tf.Tensor 'ExpandDims_5:0' shape=(None, 1) dtype=string>}\n",
      "Consider rewriting this model with the Functional API.\n",
      "407/409 [============================>.] - ETA: 0s - loss: 20213088422.0541 - mse: 20213088422.0541WARNING:tensorflow:Layers in a Sequential model should only have a single input tensor, but we receive a <class 'dict'> input: {'longitude': <tf.Tensor 'ExpandDims_3:0' shape=(None, 1) dtype=float64>, 'latitude': <tf.Tensor 'ExpandDims_2:0' shape=(None, 1) dtype=float64>, 'housing_median_age': <tf.Tensor 'ExpandDims_1:0' shape=(None, 1) dtype=float64>, 'total_rooms': <tf.Tensor 'ExpandDims_8:0' shape=(None, 1) dtype=float64>, 'total_bedrooms': <tf.Tensor 'ExpandDims_7:0' shape=(None, 1) dtype=float64>, 'population': <tf.Tensor 'ExpandDims_6:0' shape=(None, 1) dtype=float64>, 'households': <tf.Tensor 'ExpandDims:0' shape=(None, 1) dtype=float64>, 'median_income': <tf.Tensor 'ExpandDims_4:0' shape=(None, 1) dtype=float64>, 'ocean_proximity': <tf.Tensor 'ExpandDims_5:0' shape=(None, 1) dtype=string>}\n",
      "Consider rewriting this model with the Functional API.\n",
      "409/409 [==============================] - 3s 5ms/step - loss: 20170199407.1415 - mse: 20170199407.1415 - val_loss: 10414145536.0000 - val_mse: 10414145536.0000\n",
      "Epoch 2/32\n",
      "409/409 [==============================] - 2s 5ms/step - loss: 10443181421.8927 - mse: 10443181421.8927 - val_loss: 10372637696.0000 - val_mse: 10372637696.0000\n",
      "Epoch 3/32\n",
      "409/409 [==============================] - 3s 6ms/step - loss: 10060858722.6537 - mse: 10060858722.6537 - val_loss: 13342821376.0000 - val_mse: 13342821376.0000\n",
      "Epoch 4/32\n",
      "409/409 [==============================] - 2s 4ms/step - loss: 10554124625.1707 - mse: 10554124625.1707 - val_loss: 9129528320.0000 - val_mse: 9129528320.0000\n",
      "Epoch 5/32\n",
      "409/409 [==============================] - 2s 4ms/step - loss: 8762198359.4146 - mse: 8762198359.4146 - val_loss: 7450157568.0000 - val_mse: 7450157568.0000\n",
      "Epoch 6/32\n",
      "409/409 [==============================] - 2s 5ms/step - loss: 7313853106.5756 - mse: 7313853106.5756 - val_loss: 6911664128.0000 - val_mse: 6911664128.0000\n",
      "Epoch 7/32\n",
      "409/409 [==============================] - 2s 4ms/step - loss: 6848371504.7024 - mse: 6848371504.7024 - val_loss: 6308446720.0000 - val_mse: 6308446720.0000\n",
      "Epoch 8/32\n",
      "409/409 [==============================] - 2s 4ms/step - loss: 6654138775.1024 - mse: 6654138775.1024 - val_loss: 8317733888.0000 - val_mse: 8317733888.0000\n",
      "Epoch 9/32\n",
      "409/409 [==============================] - 2s 4ms/step - loss: 7908423161.7561 - mse: 7908423161.7561 - val_loss: 6141732352.0000 - val_mse: 6141732352.0000\n",
      "Epoch 10/32\n",
      "409/409 [==============================] - 2s 3ms/step - loss: 6154761141.0732 - mse: 6154761141.0732 - val_loss: 6389265408.0000 - val_mse: 6389265408.0000\n",
      "Epoch 11/32\n",
      "409/409 [==============================] - 2s 5ms/step - loss: 6344624344.0390 - mse: 6344624344.0390 - val_loss: 8551305728.0000 - val_mse: 8551305728.0000\n",
      "Epoch 12/32\n",
      "409/409 [==============================] - 2s 5ms/step - loss: 6559907795.0439 - mse: 6559907795.0439 - val_loss: 7475544576.0000 - val_mse: 7475544576.0000\n",
      "Epoch 13/32\n",
      "409/409 [==============================] - 2s 4ms/step - loss: 6903487853.8927 - mse: 6903487853.8927 - val_loss: 7554498048.0000 - val_mse: 7554498048.0000\n",
      "Epoch 14/32\n",
      "409/409 [==============================] - 2s 5ms/step - loss: 6853052424.7415 - mse: 6853052424.7415 - val_loss: 6557065216.0000 - val_mse: 6557065216.0000\n",
      "Epoch 15/32\n",
      "409/409 [==============================] - 2s 5ms/step - loss: 6204459900.8780 - mse: 6204459900.8780 - val_loss: 7511822336.0000 - val_mse: 7511822336.0000\n",
      "Epoch 16/32\n",
      "409/409 [==============================] - 2s 4ms/step - loss: 6381487507.3561 - mse: 6381487507.3561 - val_loss: 6960727040.0000 - val_mse: 6960727040.0000\n",
      "Epoch 17/32\n",
      "409/409 [==============================] - 2s 4ms/step - loss: 6174807428.3707 - mse: 6174807428.3707 - val_loss: 7585235456.0000 - val_mse: 7585235456.0000\n",
      "Epoch 18/32\n",
      "409/409 [==============================] - 2s 4ms/step - loss: 7002509148.4098 - mse: 7002509148.4098 - val_loss: 5963024896.0000 - val_mse: 5963024896.0000\n",
      "Epoch 19/32\n",
      "409/409 [==============================] - 2s 4ms/step - loss: 6442200932.5268 - mse: 6442200932.5268 - val_loss: 7077274112.0000 - val_mse: 7077274112.0000\n",
      "Epoch 20/32\n",
      "409/409 [==============================] - 1s 3ms/step - loss: 7903393354.9268 - mse: 7903393354.9268 - val_loss: 6426376704.0000 - val_mse: 6426376704.0000\n",
      "Epoch 21/32\n",
      "409/409 [==============================] - 2s 4ms/step - loss: 6402424543.5317 - mse: 6402424543.5317 - val_loss: 5830086656.0000 - val_mse: 5830086656.0000\n",
      "Epoch 22/32\n",
      "409/409 [==============================] - 2s 3ms/step - loss: 5962722202.2244 - mse: 5962722202.2244 - val_loss: 6039870976.0000 - val_mse: 6039870976.0000\n",
      "Epoch 23/32\n",
      "409/409 [==============================] - 2s 4ms/step - loss: 6161401456.3902 - mse: 6161401456.3902 - val_loss: 6178714112.0000 - val_mse: 6178714112.0000\n",
      "Epoch 24/32\n",
      "409/409 [==============================] - 2s 4ms/step - loss: 6149439603.8244 - mse: 6149439603.8244 - val_loss: 6804129280.0000 - val_mse: 6804129280.0000\n",
      "Epoch 25/32\n",
      "409/409 [==============================] - 2s 4ms/step - loss: 6628804272.0780 - mse: 6628804272.0780 - val_loss: 6878359552.0000 - val_mse: 6878359552.0000\n",
      "Epoch 26/32\n",
      "409/409 [==============================] - 2s 4ms/step - loss: 6771117474.3415 - mse: 6771117474.3415 - val_loss: 6113624064.0000 - val_mse: 6113624064.0000\n",
      "Epoch 27/32\n",
      "409/409 [==============================] - 2s 4ms/step - loss: 6109138578.1073 - mse: 6109138578.1073 - val_loss: 5897675776.0000 - val_mse: 5897675776.0000\n",
      "Epoch 28/32\n",
      "409/409 [==============================] - 2s 4ms/step - loss: 6062885718.1659 - mse: 6062885718.1659 - val_loss: 8582087680.0000 - val_mse: 8582087680.0000\n",
      "Epoch 29/32\n",
      "409/409 [==============================] - 2s 4ms/step - loss: 11301311124.6049 - mse: 11301311124.6049 - val_loss: 13555417088.0000 - val_mse: 13555417088.0000\n",
      "Epoch 30/32\n",
      "409/409 [==============================] - 2s 4ms/step - loss: 13267554391.4146 - mse: 13267554391.4146 - val_loss: 13604433920.0000 - val_mse: 13604433920.0000\n",
      "Epoch 31/32\n",
      "409/409 [==============================] - 2s 4ms/step - loss: 13294353617.7951 - mse: 13294353617.7951 - val_loss: 13578928128.0000 - val_mse: 13578928128.0000\n",
      "Epoch 32/32\n",
      "409/409 [==============================] - 2s 4ms/step - loss: 13749635923.6683 - mse: 13749635923.6683 - val_loss: 13664579584.0000 - val_mse: 13664579584.0000\n"
     ]
    }
   ],
   "source": [
    " #TODO 1\n",
    "# Model create\n",
    "\n",
    "feature_layer = tf.keras.layers.DenseFeatures(feature_columns, dtype='float64')\n",
    "\n",
    "model = tf.keras.Sequential([\n",
    "  feature_layer,\n",
    "  layers.Dense(12, input_dim=8, activation='relu'),\n",
    "  layers.Dense(8, activation='relu'),\n",
    "  layers.Dense(1, activation='linear',  name='median_house_value')\n",
    "])\n",
    "\n",
    "# Model compile\n",
    " #TODO 2a\n",
    "opt = keras.optimizers.Adam(learning_rate=.5)\n",
    "model.compile(optimizer=opt,\n",
    "              loss='mse',\n",
    "              metrics=['mse'])\n",
    "\n",
    "# Model Fit\n",
    "# Using the `fit()` method we can train our model\n",
    "history = model.fit(train_ds,\n",
    "                    validation_data=val_ds,\n",
    "                    epochs=32)"
   ]
  },
  {
   "cell_type": "code",
   "execution_count": 10,
   "metadata": {},
   "outputs": [
    {
     "data": {
      "image/png": "[encoded data removed]",
      "text/plain": [
       "<Figure size 720x360 with 2 Axes>"
      ]
     },
     "metadata": {
      "needs_background": "light"
     },
     "output_type": "display_data"
    }
   ],
   "source": [
    "def plot_curves(history, metrics):\n",
    "    nrows = 1\n",
    "    ncols = 2\n",
    "# Using the `figure()` method we can create a new figure or activate an existing figure.\n",
    "    fig = plt.figure(figsize=(10, 5))\n",
    "\n",
    "    for idx, key in enumerate(metrics):  \n",
    "# Using the `add_subplot()` method we can add a subplot to the current figure.\n",
    "        ax = fig.add_subplot(nrows, ncols, idx+1)\n",
    "# The `plot()` is a versatile function and will take an arbitrary number of arguments. \n",
    "        plt.plot(history.history[key])\n",
    "        plt.plot(history.history['val_{}'.format(key)])\n",
    "        plt.title('model {}'.format(key))\n",
    "        plt.ylabel(key)\n",
    "        plt.xlabel('epoch')\n",
    "# Using the `legend()` method we can place a legend on the axes.\n",
    "        plt.legend(['train', 'validation'], loc='upper left'); \n",
    "plot_curves(history, ['loss', 'mse'])"
   ]
  },
  {
   "cell_type": "markdown",
   "metadata": {},
   "source": [
    "## Model 2 - hard cording the learning rate to .1"
   ]
  },
  {
   "cell_type": "code",
   "execution_count": 11,
   "metadata": {},
   "outputs": [
    {
     "name": "stdout",
     "output_type": "stream",
     "text": [
      "Epoch 1/32\n",
      "WARNING:tensorflow:Layers in a Sequential model should only have a single input tensor, but we receive a <class 'dict'> input: {'longitude': <tf.Tensor 'ExpandDims_3:0' shape=(None, 1) dtype=float64>, 'latitude': <tf.Tensor 'ExpandDims_2:0' shape=(None, 1) dtype=float64>, 'housing_median_age': <tf.Tensor 'ExpandDims_1:0' shape=(None, 1) dtype=float64>, 'total_rooms': <tf.Tensor 'ExpandDims_8:0' shape=(None, 1) dtype=float64>, 'total_bedrooms': <tf.Tensor 'ExpandDims_7:0' shape=(None, 1) dtype=float64>, 'population': <tf.Tensor 'ExpandDims_6:0' shape=(None, 1) dtype=float64>, 'households': <tf.Tensor 'ExpandDims:0' shape=(None, 1) dtype=float64>, 'median_income': <tf.Tensor 'ExpandDims_4:0' shape=(None, 1) dtype=float64>, 'ocean_proximity': <tf.Tensor 'ExpandDims_5:0' shape=(None, 1) dtype=string>}\n",
      "Consider rewriting this model with the Functional API.\n",
      "WARNING:tensorflow:Layers in a Sequential model should only have a single input tensor, but we receive a <class 'dict'> input: {'longitude': <tf.Tensor 'ExpandDims_3:0' shape=(None, 1) dtype=float64>, 'latitude': <tf.Tensor 'ExpandDims_2:0' shape=(None, 1) dtype=float64>, 'housing_median_age': <tf.Tensor 'ExpandDims_1:0' shape=(None, 1) dtype=float64>, 'total_rooms': <tf.Tensor 'ExpandDims_8:0' shape=(None, 1) dtype=float64>, 'total_bedrooms': <tf.Tensor 'ExpandDims_7:0' shape=(None, 1) dtype=float64>, 'population': <tf.Tensor 'ExpandDims_6:0' shape=(None, 1) dtype=float64>, 'households': <tf.Tensor 'ExpandDims:0' shape=(None, 1) dtype=float64>, 'median_income': <tf.Tensor 'ExpandDims_4:0' shape=(None, 1) dtype=float64>, 'ocean_proximity': <tf.Tensor 'ExpandDims_5:0' shape=(None, 1) dtype=string>}\n",
      "Consider rewriting this model with the Functional API.\n",
      "393/409 [===========================>..] - ETA: 0s - loss: 22715998275.7455 - mse: 22715998275.7455WARNING:tensorflow:Layers in a Sequential model should only have a single input tensor, but we receive a <class 'dict'> input: {'longitude': <tf.Tensor 'ExpandDims_3:0' shape=(None, 1) dtype=float64>, 'latitude': <tf.Tensor 'ExpandDims_2:0' shape=(None, 1) dtype=float64>, 'housing_median_age': <tf.Tensor 'ExpandDims_1:0' shape=(None, 1) dtype=float64>, 'total_rooms': <tf.Tensor 'ExpandDims_8:0' shape=(None, 1) dtype=float64>, 'total_bedrooms': <tf.Tensor 'ExpandDims_7:0' shape=(None, 1) dtype=float64>, 'population': <tf.Tensor 'ExpandDims_6:0' shape=(None, 1) dtype=float64>, 'households': <tf.Tensor 'ExpandDims:0' shape=(None, 1) dtype=float64>, 'median_income': <tf.Tensor 'ExpandDims_4:0' shape=(None, 1) dtype=float64>, 'ocean_proximity': <tf.Tensor 'ExpandDims_5:0' shape=(None, 1) dtype=string>}\n",
      "Consider rewriting this model with the Functional API.\n",
      "409/409 [==============================] - 2s 4ms/step - loss: 22416961241.2878 - mse: 22416961241.2878 - val_loss: 11052381184.0000 - val_mse: 11052381184.0000\n",
      "Epoch 2/32\n",
      "409/409 [==============================] - 2s 5ms/step - loss: 10409467438.2049 - mse: 10409467438.2049 - val_loss: 11249071104.0000 - val_mse: 11249071104.0000\n",
      "Epoch 3/32\n",
      "409/409 [==============================] - 2s 4ms/step - loss: 9297647662.2049 - mse: 9297647662.2049 - val_loss: 7957943808.0000 - val_mse: 7957943808.0000\n",
      "Epoch 4/32\n",
      "409/409 [==============================] - 2s 4ms/step - loss: 8310793860.3707 - mse: 8310793860.3707 - val_loss: 8030184960.0000 - val_mse: 8030184960.0000\n",
      "Epoch 5/32\n",
      "409/409 [==============================] - 2s 4ms/step - loss: 7865500411.0049 - mse: 7865500411.0049 - val_loss: 7380341760.0000 - val_mse: 7380341760.0000\n",
      "Epoch 6/32\n",
      "409/409 [==============================] - 2s 4ms/step - loss: 7225564121.2878 - mse: 7225564121.2878 - val_loss: 7456299008.0000 - val_mse: 7456299008.0000\n",
      "Epoch 7/32\n",
      "409/409 [==============================] - 2s 5ms/step - loss: 6848595768.1951 - mse: 6848595768.1951 - val_loss: 7685099520.0000 - val_mse: 7685099520.0000\n",
      "Epoch 8/32\n",
      "409/409 [==============================] - 2s 4ms/step - loss: 6594447837.0341 - mse: 6594447837.0341 - val_loss: 6359488512.0000 - val_mse: 6359488512.0000\n",
      "Epoch 9/32\n",
      "409/409 [==============================] - 2s 4ms/step - loss: 6317245310.1268 - mse: 6317245310.1268 - val_loss: 6319478784.0000 - val_mse: 6319478784.0000\n",
      "Epoch 10/32\n",
      "409/409 [==============================] - 2s 3ms/step - loss: 6439448559.7659 - mse: 6439448559.7659 - val_loss: 6643348480.0000 - val_mse: 6643348480.0000\n",
      "Epoch 11/32\n",
      "409/409 [==============================] - 2s 3ms/step - loss: 6159503986.8878 - mse: 6159503986.8878 - val_loss: 6409902592.0000 - val_mse: 6409902592.0000\n",
      "Epoch 12/32\n",
      "409/409 [==============================] - 2s 5ms/step - loss: 5762508935.4927 - mse: 5762508935.4927 - val_loss: 5632090112.0000 - val_mse: 5632090112.0000\n",
      "Epoch 13/32\n",
      "409/409 [==============================] - 2s 5ms/step - loss: 6042256061.8146 - mse: 6042256061.8146 - val_loss: 5412734976.0000 - val_mse: 5412734976.0000\n",
      "Epoch 14/32\n",
      "409/409 [==============================] - 2s 4ms/step - loss: 6934811688.5854 - mse: 6934811688.5854 - val_loss: 5873332224.0000 - val_mse: 5873332224.0000\n",
      "Epoch 15/32\n",
      "409/409 [==============================] - 2s 4ms/step - loss: 5948095696.5463 - mse: 5948095696.5463 - val_loss: 6335851520.0000 - val_mse: 6335851520.0000\n",
      "Epoch 16/32\n",
      "409/409 [==============================] - 2s 5ms/step - loss: 5565851651.1220 - mse: 5565851651.1220 - val_loss: 5498675712.0000 - val_mse: 5498675712.0000\n",
      "Epoch 17/32\n",
      "409/409 [==============================] - 2s 5ms/step - loss: 5528400885.3854 - mse: 5528400885.3854 - val_loss: 6930319872.0000 - val_mse: 6930319872.0000\n",
      "Epoch 18/32\n",
      "409/409 [==============================] - 2s 4ms/step - loss: 5729002357.3854 - mse: 5729002357.3854 - val_loss: 5335400448.0000 - val_mse: 5335400448.0000\n",
      "Epoch 19/32\n",
      "409/409 [==============================] - 2s 4ms/step - loss: 5612810083.9024 - mse: 5612810083.9024 - val_loss: 5863305216.0000 - val_mse: 5863305216.0000\n",
      "Epoch 20/32\n",
      "409/409 [==============================] - 2s 3ms/step - loss: 5460319733.3854 - mse: 5460319733.3854 - val_loss: 5571794944.0000 - val_mse: 5571794944.0000\n",
      "Epoch 21/32\n",
      "409/409 [==============================] - 2s 4ms/step - loss: 5476931998.5951 - mse: 5476931998.5951 - val_loss: 5341284864.0000 - val_mse: 5341284864.0000\n",
      "Epoch 22/32\n",
      "409/409 [==============================] - 2s 4ms/step - loss: 5553916846.8293 - mse: 5553916846.8293 - val_loss: 5897701888.0000 - val_mse: 5897701888.0000\n",
      "Epoch 23/32\n",
      "409/409 [==============================] - 2s 4ms/step - loss: 5353848441.1317 - mse: 5353848441.1317 - val_loss: 5133640704.0000 - val_mse: 5133640704.0000\n",
      "Epoch 24/32\n",
      "409/409 [==============================] - 2s 3ms/step - loss: 5453720342.4780 - mse: 5453720342.4780 - val_loss: 5351865344.0000 - val_mse: 5351865344.0000\n",
      "Epoch 25/32\n",
      "409/409 [==============================] - 2s 4ms/step - loss: 5484455236.6829 - mse: 5484455236.6829 - val_loss: 5335912960.0000 - val_mse: 5335912960.0000\n",
      "Epoch 26/32\n",
      "409/409 [==============================] - 2s 4ms/step - loss: 5225610038.3220 - mse: 5225610038.3220 - val_loss: 5366576128.0000 - val_mse: 5366576128.0000\n",
      "Epoch 27/32\n",
      "409/409 [==============================] - 2s 4ms/step - loss: 5298695108.0585 - mse: 5298695108.0585 - val_loss: 6058768896.0000 - val_mse: 6058768896.0000\n",
      "Epoch 28/32\n",
      "409/409 [==============================] - 2s 4ms/step - loss: 5396168386.8098 - mse: 5396168386.8098 - val_loss: 5717432320.0000 - val_mse: 5717432320.0000\n",
      "Epoch 29/32\n",
      "409/409 [==============================] - 2s 4ms/step - loss: 5782384139.2390 - mse: 5782384139.2390 - val_loss: 7288763904.0000 - val_mse: 7288763904.0000\n",
      "Epoch 30/32\n",
      "409/409 [==============================] - 2s 4ms/step - loss: 5598533447.1805 - mse: 5598533447.1805 - val_loss: 5365948416.0000 - val_mse: 5365948416.0000\n",
      "Epoch 31/32\n",
      "409/409 [==============================] - 2s 5ms/step - loss: 5632134778.3805 - mse: 5632134778.3805 - val_loss: 9361625088.0000 - val_mse: 9361625088.0000\n",
      "Epoch 32/32\n",
      "409/409 [==============================] - 2s 5ms/step - loss: 5909581037.2683 - mse: 5909581037.2683 - val_loss: 5537410048.0000 - val_mse: 5537410048.0000\n"
     ]
    }
   ],
   "source": [
    "# Model create\n",
    "feature_layer = tf.keras.layers.DenseFeatures(feature_columns, dtype='float64')\n",
    "\n",
    "model = tf.keras.Sequential([\n",
    "  feature_layer,\n",
    "  layers.Dense(12, input_dim=8, activation='relu'),\n",
    "  layers.Dense(8, activation='relu'),\n",
    "  layers.Dense(1, activation='linear',  name='median_house_value')\n",
    "])\n",
    "\n",
    "# Model compile\n",
    " #TODO 2b\n",
    "model.compile(optimizer=keras.optimizers.Adam(learning_rate=0.1),\n",
    "              loss='mse',\n",
    "              metrics=['mse'])\n",
    "\n",
    "# Model Fit\n",
    "# Using the `fit()` method we can train our model\n",
    "history = model.fit(train_ds,\n",
    "                    validation_data=val_ds,\n",
    "                    epochs=32)"
   ]
  },
  {
   "cell_type": "code",
   "execution_count": 12,
   "metadata": {},
   "outputs": [
    {
     "data": {
      "image/png": "[encoded data removed]",
      "text/plain": [
       "<Figure size 720x360 with 2 Axes>"
      ]
     },
     "metadata": {
      "needs_background": "light"
     },
     "output_type": "display_data"
    }
   ],
   "source": [
    "def plot_curves(history, metrics):\n",
    "    nrows = 1\n",
    "    ncols = 2\n",
    "# Using the `figure()` method we can create a new figure or activate an existing figure.\n",
    "    fig = plt.figure(figsize=(10, 5))\n",
    "\n",
    "    for idx, key in enumerate(metrics):  \n",
    "# Using the `add_subplot()` method we can add a subplot to the current figure.\n",
    "        ax = fig.add_subplot(nrows, ncols, idx+1)\n",
    "# The `plot()` is a versatile function and will take an arbitrary number of arguments. \n",
    "        plt.plot(history.history[key])\n",
    "        plt.plot(history.history['val_{}'.format(key)])\n",
    "        plt.title('model {}'.format(key))\n",
    "        plt.ylabel(key)\n",
    "        plt.xlabel('epoch')\n",
    "# Using the `legend()` method we can place a legend on the axes.\n",
    "        plt.legend(['train', 'validation'], loc='upper left');  \n",
    "plot_curves(history, ['loss', 'mse'])"
   ]
  },
  {
   "cell_type": "markdown",
   "metadata": {},
   "source": [
    "## Model 3 - hard cording the learning rate to .01 "
   ]
  },
  {
   "cell_type": "code",
   "execution_count": 13,
   "metadata": {},
   "outputs": [
    {
     "name": "stdout",
     "output_type": "stream",
     "text": [
      "Epoch 1/32\n",
      "WARNING:tensorflow:Layers in a Sequential model should only have a single input tensor, but we receive a <class 'dict'> input: {'longitude': <tf.Tensor 'ExpandDims_3:0' shape=(None, 1) dtype=float64>, 'latitude': <tf.Tensor 'ExpandDims_2:0' shape=(None, 1) dtype=float64>, 'housing_median_age': <tf.Tensor 'ExpandDims_1:0' shape=(None, 1) dtype=float64>, 'total_rooms': <tf.Tensor 'ExpandDims_8:0' shape=(None, 1) dtype=float64>, 'total_bedrooms': <tf.Tensor 'ExpandDims_7:0' shape=(None, 1) dtype=float64>, 'population': <tf.Tensor 'ExpandDims_6:0' shape=(None, 1) dtype=float64>, 'households': <tf.Tensor 'ExpandDims:0' shape=(None, 1) dtype=float64>, 'median_income': <tf.Tensor 'ExpandDims_4:0' shape=(None, 1) dtype=float64>, 'ocean_proximity': <tf.Tensor 'ExpandDims_5:0' shape=(None, 1) dtype=string>}\n",
      "Consider rewriting this model with the Functional API.\n",
      "WARNING:tensorflow:Layers in a Sequential model should only have a single input tensor, but we receive a <class 'dict'> input: {'longitude': <tf.Tensor 'ExpandDims_3:0' shape=(None, 1) dtype=float64>, 'latitude': <tf.Tensor 'ExpandDims_2:0' shape=(None, 1) dtype=float64>, 'housing_median_age': <tf.Tensor 'ExpandDims_1:0' shape=(None, 1) dtype=float64>, 'total_rooms': <tf.Tensor 'ExpandDims_8:0' shape=(None, 1) dtype=float64>, 'total_bedrooms': <tf.Tensor 'ExpandDims_7:0' shape=(None, 1) dtype=float64>, 'population': <tf.Tensor 'ExpandDims_6:0' shape=(None, 1) dtype=float64>, 'households': <tf.Tensor 'ExpandDims:0' shape=(None, 1) dtype=float64>, 'median_income': <tf.Tensor 'ExpandDims_4:0' shape=(None, 1) dtype=float64>, 'ocean_proximity': <tf.Tensor 'ExpandDims_5:0' shape=(None, 1) dtype=string>}\n",
      "Consider rewriting this model with the Functional API.\n",
      "398/409 [============================>.] - ETA: 0s - loss: 37485463479.9598 - mse: 37485463479.9598WARNING:tensorflow:Layers in a Sequential model should only have a single input tensor, but we receive a <class 'dict'> input: {'longitude': <tf.Tensor 'ExpandDims_3:0' shape=(None, 1) dtype=float64>, 'latitude': <tf.Tensor 'ExpandDims_2:0' shape=(None, 1) dtype=float64>, 'housing_median_age': <tf.Tensor 'ExpandDims_1:0' shape=(None, 1) dtype=float64>, 'total_rooms': <tf.Tensor 'ExpandDims_8:0' shape=(None, 1) dtype=float64>, 'total_bedrooms': <tf.Tensor 'ExpandDims_7:0' shape=(None, 1) dtype=float64>, 'population': <tf.Tensor 'ExpandDims_6:0' shape=(None, 1) dtype=float64>, 'households': <tf.Tensor 'ExpandDims:0' shape=(None, 1) dtype=float64>, 'median_income': <tf.Tensor 'ExpandDims_4:0' shape=(None, 1) dtype=float64>, 'ocean_proximity': <tf.Tensor 'ExpandDims_5:0' shape=(None, 1) dtype=string>}\n",
      "Consider rewriting this model with the Functional API.\n",
      "409/409 [==============================] - 3s 5ms/step - loss: 37223777819.4732 - mse: 37223777819.4732 - val_loss: 19954311168.0000 - val_mse: 19954311168.0000\n",
      "Epoch 2/32\n",
      "409/409 [==============================] - 2s 4ms/step - loss: 16616004583.0244 - mse: 16616004583.0244 - val_loss: 11741119488.0000 - val_mse: 11741119488.0000\n",
      "Epoch 3/32\n",
      "409/409 [==============================] - 2s 4ms/step - loss: 11165775819.5512 - mse: 11165775819.5512 - val_loss: 11371048960.0000 - val_mse: 11371048960.0000\n",
      "Epoch 4/32\n",
      "409/409 [==============================] - 2s 4ms/step - loss: 10867820332.9561 - mse: 10867820332.9561 - val_loss: 11064173568.0000 - val_mse: 11064173568.0000\n",
      "Epoch 5/32\n",
      "409/409 [==============================] - 1s 3ms/step - loss: 10535912580.3707 - mse: 10535912580.3707 - val_loss: 10802217984.0000 - val_mse: 10802217984.0000\n",
      "Epoch 6/32\n",
      "409/409 [==============================] - 1s 3ms/step - loss: 10122771342.3610 - mse: 10122771342.3610 - val_loss: 10263787520.0000 - val_mse: 10263787520.0000\n",
      "Epoch 7/32\n",
      "409/409 [==============================] - 2s 4ms/step - loss: 9794439297.8732 - mse: 9794439297.8732 - val_loss: 10010436608.0000 - val_mse: 10010436608.0000\n",
      "Epoch 8/32\n",
      "409/409 [==============================] - 2s 4ms/step - loss: 9533022512.7024 - mse: 9533022512.7024 - val_loss: 9421589504.0000 - val_mse: 9421589504.0000\n",
      "Epoch 9/32\n",
      "409/409 [==============================] - 2s 4ms/step - loss: 8936467302.4000 - mse: 8936467302.4000 - val_loss: 9031045120.0000 - val_mse: 9031045120.0000\n",
      "Epoch 10/32\n",
      "409/409 [==============================] - 2s 4ms/step - loss: 8596823151.1415 - mse: 8596823151.1415 - val_loss: 8770964480.0000 - val_mse: 8770964480.0000\n",
      "Epoch 11/32\n",
      "409/409 [==============================] - 2s 4ms/step - loss: 8321113412.6829 - mse: 8321113412.6829 - val_loss: 8332277248.0000 - val_mse: 8332277248.0000\n",
      "Epoch 12/32\n",
      "409/409 [==============================] - 2s 5ms/step - loss: 7858883101.9707 - mse: 7858883101.9707 - val_loss: 8166304768.0000 - val_mse: 8166304768.0000\n",
      "Epoch 13/32\n",
      "409/409 [==============================] - 2s 4ms/step - loss: 7845450594.6537 - mse: 7845450594.6537 - val_loss: 8062673920.0000 - val_mse: 8062673920.0000\n",
      "Epoch 14/32\n",
      "409/409 [==============================] - 2s 4ms/step - loss: 7625182822.4000 - mse: 7625182822.4000 - val_loss: 7909709312.0000 - val_mse: 7909709312.0000\n",
      "Epoch 15/32\n",
      "409/409 [==============================] - 2s 4ms/step - loss: 7360041036.1756 - mse: 7360041036.1756 - val_loss: 7418428928.0000 - val_mse: 7418428928.0000\n",
      "Epoch 16/32\n",
      "409/409 [==============================] - 2s 4ms/step - loss: 7372980145.3268 - mse: 7372980145.3268 - val_loss: 7266253312.0000 - val_mse: 7266253312.0000\n",
      "Epoch 17/32\n",
      "409/409 [==============================] - 2s 4ms/step - loss: 7204881892.5268 - mse: 7204881892.5268 - val_loss: 7101667328.0000 - val_mse: 7101667328.0000\n",
      "Epoch 18/32\n",
      "409/409 [==============================] - 2s 4ms/step - loss: 6851359325.6585 - mse: 6851359325.6585 - val_loss: 6948494336.0000 - val_mse: 6948494336.0000\n",
      "Epoch 19/32\n",
      "409/409 [==============================] - 2s 4ms/step - loss: 6609006494.5951 - mse: 6609006494.5951 - val_loss: 6909306880.0000 - val_mse: 6909306880.0000\n",
      "Epoch 20/32\n",
      "409/409 [==============================] - 2s 4ms/step - loss: 6592543099.6293 - mse: 6592543099.6293 - val_loss: 7521869824.0000 - val_mse: 7521869824.0000\n",
      "Epoch 21/32\n",
      "409/409 [==============================] - 2s 4ms/step - loss: 6550149262.3610 - mse: 6550149262.3610 - val_loss: 6568689664.0000 - val_mse: 6568689664.0000\n",
      "Epoch 22/32\n",
      "409/409 [==============================] - 2s 4ms/step - loss: 6224883352.3512 - mse: 6224883352.3512 - val_loss: 6681153024.0000 - val_mse: 6681153024.0000\n",
      "Epoch 23/32\n",
      "409/409 [==============================] - 2s 4ms/step - loss: 6131277620.4488 - mse: 6131277620.4488 - val_loss: 6235905024.0000 - val_mse: 6235905024.0000\n",
      "Epoch 24/32\n",
      "409/409 [==============================] - 2s 4ms/step - loss: 6061742786.1854 - mse: 6061742786.1854 - val_loss: 7712047104.0000 - val_mse: 7712047104.0000\n",
      "Epoch 25/32\n",
      "409/409 [==============================] - 2s 4ms/step - loss: 6445114123.2390 - mse: 6445114123.2390 - val_loss: 6235718144.0000 - val_mse: 6235718144.0000\n",
      "Epoch 26/32\n",
      "409/409 [==============================] - 2s 3ms/step - loss: 5896334194.8878 - mse: 5896334194.8878 - val_loss: 5935174656.0000 - val_mse: 5935174656.0000\n",
      "Epoch 27/32\n",
      "409/409 [==============================] - 2s 4ms/step - loss: 5714730133.8537 - mse: 5714730133.8537 - val_loss: 5984472064.0000 - val_mse: 5984472064.0000\n",
      "Epoch 28/32\n",
      "409/409 [==============================] - 2s 4ms/step - loss: 5611522850.9659 - mse: 5611522850.9659 - val_loss: 5910094336.0000 - val_mse: 5910094336.0000\n",
      "Epoch 29/32\n",
      "409/409 [==============================] - 2s 4ms/step - loss: 5623444603.0049 - mse: 5623444603.0049 - val_loss: 5796596736.0000 - val_mse: 5796596736.0000\n",
      "Epoch 30/32\n",
      "409/409 [==============================] - 2s 4ms/step - loss: 5809391973.1512 - mse: 5809391973.1512 - val_loss: 6311820288.0000 - val_mse: 6311820288.0000\n",
      "Epoch 31/32\n",
      "409/409 [==============================] - 2s 4ms/step - loss: 5552111137.7171 - mse: 5552111137.7171 - val_loss: 5681816064.0000 - val_mse: 5681816064.0000\n",
      "Epoch 32/32\n",
      "409/409 [==============================] - 2s 4ms/step - loss: 5612650845.6585 - mse: 5612650845.6585 - val_loss: 5693279744.0000 - val_mse: 5693279744.0000\n"
     ]
    }
   ],
   "source": [
    "# Model create\n",
    "\n",
    "feature_layer = tf.keras.layers.DenseFeatures(feature_columns, dtype='float64')\n",
    "\n",
    "model = tf.keras.Sequential([\n",
    "  feature_layer,\n",
    "  layers.Dense(12, input_dim=8, activation='relu'),\n",
    "  layers.Dense(8, activation='relu'),\n",
    "  layers.Dense(1, activation='linear',  name='median_house_value')\n",
    "])\n",
    "\n",
    "# Model compile\n",
    " #TODO 2c\n",
    "opt = keras.optimizers.Adam(learning_rate=0.01)\n",
    "model.compile(optimizer=opt,\n",
    "              loss='mse',\n",
    "              metrics=['mse'])\n",
    "\n",
    "# Model Fit\n",
    "# Using the `fit()` method we can train our model\n",
    "history = model.fit(train_ds,\n",
    "                    validation_data=val_ds,\n",
    "                    epochs=32)  # Increase Epochs to 32"
   ]
  },
  {
   "cell_type": "code",
   "execution_count": 14,
   "metadata": {},
   "outputs": [
    {
     "data": {
      "image/png": "[encoded data removed]",
      "text/plain": [
       "<Figure size 720x360 with 2 Axes>"
      ]
     },
     "metadata": {
      "needs_background": "light"
     },
     "output_type": "display_data"
    }
   ],
   "source": [
    "def plot_curves(history, metrics):\n",
    "    nrows = 1\n",
    "    ncols = 2\n",
    "# Using the `figure()` method we can create a new figure or activate an existing figure.\n",
    "    fig = plt.figure(figsize=(10, 5))\n",
    "\n",
    "    for idx, key in enumerate(metrics):  \n",
    "# Using the `add_subplot()` method we can add a subplot to the current figure.\n",
    "        ax = fig.add_subplot(nrows, ncols, idx+1)\n",
    "# The `plot()` is a versatile function and will take an arbitrary number of arguments. \n",
    "        plt.plot(history.history[key])\n",
    "        plt.plot(history.history['val_{}'.format(key)])\n",
    "        plt.title('model {}'.format(key))\n",
    "        plt.ylabel(key)\n",
    "        plt.xlabel('epoch')\n",
    "# Using the `legend()` method we can place a legend on the axes.\n",
    "        plt.legend(['train', 'validation'], loc='upper left');  \n",
    "plot_curves(history, ['loss', 'mse'])"
   ]
  },
  {
   "cell_type": "markdown",
   "metadata": {},
   "source": [
    "## Model 4 - hard cording the learning rate to .001 "
   ]
  },
  {
   "cell_type": "code",
   "execution_count": 15,
   "metadata": {},
   "outputs": [
    {
     "name": "stdout",
     "output_type": "stream",
     "text": [
      "Epoch 1/32\n",
      "WARNING:tensorflow:Layers in a Sequential model should only have a single input tensor, but we receive a <class 'dict'> input: {'longitude': <tf.Tensor 'ExpandDims_3:0' shape=(None, 1) dtype=float64>, 'latitude': <tf.Tensor 'ExpandDims_2:0' shape=(None, 1) dtype=float64>, 'housing_median_age': <tf.Tensor 'ExpandDims_1:0' shape=(None, 1) dtype=float64>, 'total_rooms': <tf.Tensor 'ExpandDims_8:0' shape=(None, 1) dtype=float64>, 'total_bedrooms': <tf.Tensor 'ExpandDims_7:0' shape=(None, 1) dtype=float64>, 'population': <tf.Tensor 'ExpandDims_6:0' shape=(None, 1) dtype=float64>, 'households': <tf.Tensor 'ExpandDims:0' shape=(None, 1) dtype=float64>, 'median_income': <tf.Tensor 'ExpandDims_4:0' shape=(None, 1) dtype=float64>, 'ocean_proximity': <tf.Tensor 'ExpandDims_5:0' shape=(None, 1) dtype=string>}\n",
      "Consider rewriting this model with the Functional API.\n",
      "WARNING:tensorflow:Layers in a Sequential model should only have a single input tensor, but we receive a <class 'dict'> input: {'longitude': <tf.Tensor 'ExpandDims_3:0' shape=(None, 1) dtype=float64>, 'latitude': <tf.Tensor 'ExpandDims_2:0' shape=(None, 1) dtype=float64>, 'housing_median_age': <tf.Tensor 'ExpandDims_1:0' shape=(None, 1) dtype=float64>, 'total_rooms': <tf.Tensor 'ExpandDims_8:0' shape=(None, 1) dtype=float64>, 'total_bedrooms': <tf.Tensor 'ExpandDims_7:0' shape=(None, 1) dtype=float64>, 'population': <tf.Tensor 'ExpandDims_6:0' shape=(None, 1) dtype=float64>, 'households': <tf.Tensor 'ExpandDims:0' shape=(None, 1) dtype=float64>, 'median_income': <tf.Tensor 'ExpandDims_4:0' shape=(None, 1) dtype=float64>, 'ocean_proximity': <tf.Tensor 'ExpandDims_5:0' shape=(None, 1) dtype=string>}\n",
      "Consider rewriting this model with the Functional API.\n",
      "399/409 [============================>.] - ETA: 0s - loss: 55600362190.5965 - mse: 55600362190.5965WARNING:tensorflow:Layers in a Sequential model should only have a single input tensor, but we receive a <class 'dict'> input: {'longitude': <tf.Tensor 'ExpandDims_3:0' shape=(None, 1) dtype=float64>, 'latitude': <tf.Tensor 'ExpandDims_2:0' shape=(None, 1) dtype=float64>, 'housing_median_age': <tf.Tensor 'ExpandDims_1:0' shape=(None, 1) dtype=float64>, 'total_rooms': <tf.Tensor 'ExpandDims_8:0' shape=(None, 1) dtype=float64>, 'total_bedrooms': <tf.Tensor 'ExpandDims_7:0' shape=(None, 1) dtype=float64>, 'population': <tf.Tensor 'ExpandDims_6:0' shape=(None, 1) dtype=float64>, 'households': <tf.Tensor 'ExpandDims:0' shape=(None, 1) dtype=float64>, 'median_income': <tf.Tensor 'ExpandDims_4:0' shape=(None, 1) dtype=float64>, 'ocean_proximity': <tf.Tensor 'ExpandDims_5:0' shape=(None, 1) dtype=string>}\n",
      "Consider rewriting this model with the Functional API.\n",
      "409/409 [==============================] - 3s 6ms/step - loss: 55548366618.2244 - mse: 55548366618.2244 - val_loss: 47541706752.0000 - val_mse: 47541706752.0000\n",
      "Epoch 2/32\n",
      "409/409 [==============================] - 2s 4ms/step - loss: 42828903948.4878 - mse: 42828903948.4878 - val_loss: 27699193856.0000 - val_mse: 27699193856.0000\n",
      "Epoch 3/32\n",
      "409/409 [==============================] - 2s 4ms/step - loss: 27264933518.3610 - mse: 27264933518.3610 - val_loss: 26118662144.0000 - val_mse: 26118662144.0000\n",
      "Epoch 4/32\n",
      "409/409 [==============================] - 2s 5ms/step - loss: 26078972658.2634 - mse: 26078972658.2634 - val_loss: 25892792320.0000 - val_mse: 25892792320.0000\n",
      "Epoch 5/32\n",
      "409/409 [==============================] - 2s 5ms/step - loss: 26667430152.7415 - mse: 26667430152.7415 - val_loss: 25655328768.0000 - val_mse: 25655328768.0000\n",
      "Epoch 6/32\n",
      "409/409 [==============================] - 2s 5ms/step - loss: 25731267698.8878 - mse: 25731267698.8878 - val_loss: 25381437440.0000 - val_mse: 25381437440.0000\n",
      "Epoch 7/32\n",
      "409/409 [==============================] - 2s 5ms/step - loss: 25582950709.6976 - mse: 25582950709.6976 - val_loss: 25123346432.0000 - val_mse: 25123346432.0000\n",
      "Epoch 8/32\n",
      "409/409 [==============================] - 2s 4ms/step - loss: 25386689536.0000 - mse: 25386689536.0000 - val_loss: 24866740224.0000 - val_mse: 24866740224.0000\n",
      "Epoch 9/32\n",
      "409/409 [==============================] - 2s 4ms/step - loss: 24503194184.4293 - mse: 24503194184.4293 - val_loss: 24552994816.0000 - val_mse: 24552994816.0000\n",
      "Epoch 10/32\n",
      "409/409 [==============================] - 2s 5ms/step - loss: 24897437351.3366 - mse: 24897437351.3366 - val_loss: 24173295616.0000 - val_mse: 24173295616.0000\n",
      "Epoch 11/32\n",
      "409/409 [==============================] - 2s 4ms/step - loss: 23676051111.3366 - mse: 23676051111.3366 - val_loss: 23735828480.0000 - val_mse: 23735828480.0000\n",
      "Epoch 12/32\n",
      "409/409 [==============================] - 2s 4ms/step - loss: 23929855295.6878 - mse: 23929855295.6878 - val_loss: 23277699072.0000 - val_mse: 23277699072.0000\n",
      "Epoch 13/32\n",
      "409/409 [==============================] - 2s 4ms/step - loss: 23763646014.4390 - mse: 23763646014.4390 - val_loss: 22784772096.0000 - val_mse: 22784772096.0000\n",
      "Epoch 14/32\n",
      "409/409 [==============================] - 2s 5ms/step - loss: 22978647274.7707 - mse: 22978647274.7707 - val_loss: 22239287296.0000 - val_mse: 22239287296.0000\n",
      "Epoch 15/32\n",
      "409/409 [==============================] - 2s 4ms/step - loss: 21942046942.2829 - mse: 21942046942.2829 - val_loss: 21635213312.0000 - val_mse: 21635213312.0000\n",
      "Epoch 16/32\n",
      "409/409 [==============================] - 2s 4ms/step - loss: 21697511339.0829 - mse: 21697511339.0829 - val_loss: 20976545792.0000 - val_mse: 20976545792.0000\n",
      "Epoch 17/32\n",
      "409/409 [==============================] - 2s 4ms/step - loss: 21153372192.4683 - mse: 21153372192.4683 - val_loss: 20239185920.0000 - val_mse: 20239185920.0000\n",
      "Epoch 18/32\n",
      "409/409 [==============================] - 2s 4ms/step - loss: 20354392748.3317 - mse: 20354392748.3317 - val_loss: 19427205120.0000 - val_mse: 19427205120.0000\n",
      "Epoch 19/32\n",
      "409/409 [==============================] - 2s 3ms/step - loss: 19176872922.5366 - mse: 19176872922.5366 - val_loss: 18523779072.0000 - val_mse: 18523779072.0000\n",
      "Epoch 20/32\n",
      "409/409 [==============================] - 2s 4ms/step - loss: 18122071056.2341 - mse: 18122071056.2341 - val_loss: 17548781568.0000 - val_mse: 17548781568.0000\n",
      "Epoch 21/32\n",
      "409/409 [==============================] - 2s 4ms/step - loss: 17275156470.0098 - mse: 17275156470.0098 - val_loss: 16493936640.0000 - val_mse: 16493936640.0000\n",
      "Epoch 22/32\n",
      "409/409 [==============================] - 2s 4ms/step - loss: 16208468677.3073 - mse: 16208468677.3073 - val_loss: 15442503680.0000 - val_mse: 15442503680.0000\n",
      "Epoch 23/32\n",
      "409/409 [==============================] - 2s 4ms/step - loss: 15181385523.2000 - mse: 15181385523.2000 - val_loss: 14410433536.0000 - val_mse: 14410433536.0000\n",
      "Epoch 24/32\n",
      "409/409 [==============================] - 2s 4ms/step - loss: 14453564326.0878 - mse: 14453564326.0878 - val_loss: 13524061184.0000 - val_mse: 13524061184.0000\n",
      "Epoch 25/32\n",
      "409/409 [==============================] - 2s 5ms/step - loss: 13454642382.0488 - mse: 13454642382.0488 - val_loss: 12780975104.0000 - val_mse: 12780975104.0000\n",
      "Epoch 26/32\n",
      "409/409 [==============================] - 2s 4ms/step - loss: 12403950844.2537 - mse: 12403950844.2537 - val_loss: 12270387200.0000 - val_mse: 12270387200.0000\n",
      "Epoch 27/32\n",
      "409/409 [==============================] - 1s 3ms/step - loss: 11759084673.8732 - mse: 11759084673.8732 - val_loss: 11983510528.0000 - val_mse: 11983510528.0000\n",
      "Epoch 28/32\n",
      "409/409 [==============================] - 2s 4ms/step - loss: 11534301671.0244 - mse: 11534301671.0244 - val_loss: 11795581952.0000 - val_mse: 11795581952.0000\n",
      "Epoch 29/32\n",
      "409/409 [==============================] - 2s 4ms/step - loss: 11447412301.4244 - mse: 11447412301.4244 - val_loss: 11717081088.0000 - val_mse: 11717081088.0000\n",
      "Epoch 30/32\n",
      "409/409 [==============================] - 2s 4ms/step - loss: 11258642022.4000 - mse: 11258642022.4000 - val_loss: 11692587008.0000 - val_mse: 11692587008.0000\n",
      "Epoch 31/32\n",
      "409/409 [==============================] - 2s 4ms/step - loss: 11035370141.3463 - mse: 11035370141.3463 - val_loss: 11677813760.0000 - val_mse: 11677813760.0000\n",
      "Epoch 32/32\n",
      "409/409 [==============================] - 2s 4ms/step - loss: 11003347813.1512 - mse: 11003347813.1512 - val_loss: 11644555264.0000 - val_mse: 11644555264.0000\n"
     ]
    }
   ],
   "source": [
    "# Model create\n",
    "\n",
    "feature_layer = tf.keras.layers.DenseFeatures(feature_columns, dtype='float64')\n",
    "\n",
    "model = tf.keras.Sequential([\n",
    "  feature_layer,\n",
    "  layers.Dense(12, input_dim=8, activation='relu'),\n",
    "  layers.Dense(8, activation='relu'),\n",
    "  layers.Dense(1, activation='linear',  name='median_house_value')\n",
    "])\n",
    "\n",
    "# Model compile\n",
    " #TODO 2d\n",
    "opt = keras.optimizers.Adam(learning_rate=0.001)\n",
    "model.compile(optimizer=opt,\n",
    "              loss='mse',\n",
    "              metrics=['mse'])\n",
    "\n",
    "# Model Fit\n",
    "# Using the `fit()` method we can train our model\n",
    "history = model.fit(train_ds,\n",
    "                    validation_data=val_ds,\n",
    "                    epochs=32)  # Increase Epochs to 32"
   ]
  },
  {
   "cell_type": "code",
   "execution_count": 16,
   "metadata": {},
   "outputs": [
    {
     "data": {
      "image/png": "[encoded data removed]",
      "text/plain": [
       "<Figure size 720x360 with 2 Axes>"
      ]
     },
     "metadata": {
      "needs_background": "light"
     },
     "output_type": "display_data"
    }
   ],
   "source": [
    " #TODO 3\n",
    "def plot_curves(history, metrics):\n",
    "    nrows = 1\n",
    "    ncols = 2\n",
    "# Using the `figure()` method we can create a new figure or activate an existing figure.\n",
    "    fig = plt.figure(figsize=(10, 5))\n",
    "\n",
    "    for idx, key in enumerate(metrics):  \n",
    "# Using the `add_subplot()` method we can add a subplot to the current figure.\n",
    "        ax = fig.add_subplot(nrows, ncols, idx+1)\n",
    "# The `plot()` is a versatile function and will take an arbitrary number of arguments. \n",
    "        plt.plot(history.history[key])\n",
    "        plt.plot(history.history['val_{}'.format(key)])\n",
    "        plt.title('model {}'.format(key))\n",
    "        plt.ylabel(key)\n",
    "        plt.xlabel('epoch')\n",
    "# Using the `legend()` method we can place a legend on the axes.\n",
    "        plt.legend(['train', 'validation'], loc='upper left');  \n",
    "        \n",
    "plot_curves(history, ['loss', 'mse'])"
   ]
  },
  {
   "cell_type": "markdown",
   "metadata": {},
   "source": [
    "Copyright 2020 Google Inc.\n",
    "Licensed under the Apache License, Version 2.0 (the \"License\"); you may not use this file except in compliance with the License. You may obtain a copy of the License at\n",
    "http://www.apache.org/licenses/LICENSE-2.0\n",
    "Unless required by applicable law or agreed to in writing, software distributed under the License is distributed on an \"AS IS\" BASIS, WITHOUT WARRANTIES OR CONDITIONS OF ANY KIND, either express or implied. See the License for the specific language governing permissions and limitations under the License."
   ]
  }
 ],
 "metadata": {
  "colab": {
   "collapsed_sections": [],
   "name": "learning_rate.ipynb",
   "provenance": [],
   "toc_visible": true
  },
  "environment": {
   "name": "tf2-gpu.2-4.mnightly-2021-01-20-debian-10-test",
   "type": "gcloud",
   "uri": "gcr.io/deeplearning-platform-release/tf2-gpu.2-4:mnightly-2021-01-20-debian-10-test"
  },
  "kernelspec": {
   "display_name": "Python 3",
   "language": "python",
   "name": "python3"
  },
  "language_info": {
   "codemirror_mode": {
    "name": "ipython",
    "version": 3
   },
   "file_extension": ".py",
   "mimetype": "text/x-python",
   "name": "python",
   "nbconvert_exporter": "python",
   "pygments_lexer": "ipython3",
   "version": "3.7.9"
  }
 },
 "nbformat": 4,
 "nbformat_minor": 4
}
